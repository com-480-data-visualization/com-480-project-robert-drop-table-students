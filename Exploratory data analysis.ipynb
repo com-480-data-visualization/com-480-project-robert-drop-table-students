{
 "cells": [
  {
   "cell_type": "markdown",
   "metadata": {},
   "source": [
    "# Ted Talks\n",
    "\n",
    "Two datasets:\n",
    "- `ted_main.csv`\n",
    "- `transcript.csv`\n"
   ]
  },
  {
   "cell_type": "markdown",
   "metadata": {},
   "source": [
    "These notebook is divided in 4 parts:\n",
    "<ol>\n",
    "    <li> <b>Part A</b>: Data loading and preprocessing </li>\n",
    "    <li> <b>Part B</b>: Saving the processed dataframes </li>\n",
    "    <li> <b>Part C</b>: Exploritory data analysis </li>\n",
    "    <li> <b>Part D</b>: Experimental stuff </li>\n",
    "</ol>"
   ]
  },
  {
   "cell_type": "code",
   "execution_count": 1,
   "metadata": {},
   "outputs": [],
   "source": [
    "%matplotlib inline\n",
    "import matplotlib.pyplot as plt\n",
    "import numpy as np\n",
    "import pandas as pd\n",
    "import seaborn as sns\n",
    "import networkx as nx\n",
    "import re\n",
    "\n",
    "from ast import literal_eval\n",
    "from sklearn.feature_extraction import text\n",
    "from sklearn.metrics.pairwise import cosine_similarity\n",
    "\n",
    "# Uncomment this if you want to see all rows and columns when displaying a pandas object\n",
    "# pd.set_option(\"display.max_rows\", None, \"display.max_columns\", None)"
   ]
  },
  {
   "cell_type": "markdown",
   "metadata": {},
   "source": [
    "## Part A. Data loading and preprocessing"
   ]
  },
  {
   "cell_type": "code",
   "execution_count": 2,
   "metadata": {},
   "outputs": [
    {
     "name": "stdout",
     "output_type": "stream",
     "text": [
      "<class 'pandas.core.frame.DataFrame'>\n",
      "RangeIndex: 2467 entries, 0 to 2466\n",
      "Data columns (total 2 columns):\n",
      "transcript    2467 non-null object\n",
      "url           2467 non-null object\n",
      "dtypes: object(2)\n",
      "memory usage: 38.7+ KB\n",
      "<class 'pandas.core.frame.DataFrame'>\n",
      "RangeIndex: 2550 entries, 0 to 2549\n",
      "Data columns (total 17 columns):\n",
      "comments              2550 non-null int64\n",
      "description           2550 non-null object\n",
      "duration              2550 non-null int64\n",
      "event                 2550 non-null object\n",
      "film_date             2550 non-null int64\n",
      "languages             2550 non-null int64\n",
      "main_speaker          2550 non-null object\n",
      "name                  2550 non-null object\n",
      "num_speaker           2550 non-null int64\n",
      "published_date        2550 non-null int64\n",
      "ratings               2550 non-null object\n",
      "related_talks         2550 non-null object\n",
      "speaker_occupation    2544 non-null object\n",
      "tags                  2550 non-null object\n",
      "title                 2550 non-null object\n",
      "url                   2550 non-null object\n",
      "views                 2550 non-null int64\n",
      "dtypes: int64(7), object(10)\n",
      "memory usage: 338.8+ KB\n"
     ]
    }
   ],
   "source": [
    "df = pd.read_csv('data/ted_main.csv')\n",
    "df2 = pd.read_csv('data/transcripts.csv')\n",
    "df2.info()\n",
    "df.info()"
   ]
  },
  {
   "cell_type": "markdown",
   "metadata": {},
   "source": [
    "The talks dataset contains 17 columns. According to the Kaggle website these are:\n",
    "<ol>\n",
    "    <li> <b>name</b>: The official name of the TED Talk. Includes the title and the speaker. *Use this as the unique id in our dataframe </li>\n",
    "    <li> <b>title</b>: The title of the talk </li>\n",
    "    <li> <b>main_speaker</b>: The first named speaker of the talk </li>    \n",
    "    <li> <b>speaker_occupation</b>: The occupation of the main speaker </li>\n",
    "    <li> <b>num_speaker</b>: The number of speakers in the talk </li>\n",
    "    <li> <b>description</b>: A blurb of what the talk is about </li>\n",
    "    <li> <b>duration</b>: The duration of the talk in seconds </li>\n",
    "    <li> <b>event</b>: The TED/TEDx event where the talk took place </li>\n",
    "    <li> <b>languages</b>: The number of languages in which the talk is available </li>\n",
    "    <li> <b>film_date</b>: The Unix timestamp of the filming </li>\n",
    "    <li> <b>published_date</b>: The Unix timestamp for the publication of the talk on TED.com </li>\n",
    "    <li> <b>tags</b>: The themes associated with the talk </li>\n",
    "    <li> <b>views</b>: The number of views on the talk </li>\n",
    "    <li> <b>url</b>: The URL of the talk </li>\n",
    "    <li> <b>ratings</b>: A stringified dictionary of the various ratings given to the talk (inspiring, fascinating, jaw dropping, etc.) </li>\n",
    "    <li> <b>comments</b> The number of first level comments made on the talk </li>\n",
    "    <li> <b>related_talks</b> A list of dictionaries of recommended talks to watch next </li>\n",
    "</ol>\n",
    "\n",
    "The transcripts dataset contains only 2 columns.\n",
    "<ol>\n",
    "    <li> <b>transcript</b>: The transcript of the talk. Contains audience reactions. </li>\n",
    "    <li> <b>url</b>: The url of the talk. Will use this to join the 2 datasets. </li>\n",
    "</ol>"
   ]
  },
  {
   "cell_type": "code",
   "execution_count": 3,
   "metadata": {},
   "outputs": [
    {
     "data": {
      "text/html": [
       "<div>\n",
       "<style scoped>\n",
       "    .dataframe tbody tr th:only-of-type {\n",
       "        vertical-align: middle;\n",
       "    }\n",
       "\n",
       "    .dataframe tbody tr th {\n",
       "        vertical-align: top;\n",
       "    }\n",
       "\n",
       "    .dataframe thead th {\n",
       "        text-align: right;\n",
       "    }\n",
       "</style>\n",
       "<table border=\"1\" class=\"dataframe\">\n",
       "  <thead>\n",
       "    <tr style=\"text-align: right;\">\n",
       "      <th></th>\n",
       "      <th>comments</th>\n",
       "      <th>description</th>\n",
       "      <th>duration</th>\n",
       "      <th>event</th>\n",
       "      <th>film_date</th>\n",
       "      <th>languages</th>\n",
       "      <th>main_speaker</th>\n",
       "      <th>name</th>\n",
       "      <th>num_speaker</th>\n",
       "      <th>published_date</th>\n",
       "      <th>ratings</th>\n",
       "      <th>related_talks</th>\n",
       "      <th>speaker_occupation</th>\n",
       "      <th>tags</th>\n",
       "      <th>title</th>\n",
       "      <th>url</th>\n",
       "      <th>views</th>\n",
       "    </tr>\n",
       "  </thead>\n",
       "  <tbody>\n",
       "    <tr>\n",
       "      <td>0</td>\n",
       "      <td>4553</td>\n",
       "      <td>Sir Ken Robinson makes an entertaining and pro...</td>\n",
       "      <td>1164</td>\n",
       "      <td>TED2006</td>\n",
       "      <td>1140825600</td>\n",
       "      <td>60</td>\n",
       "      <td>Ken Robinson</td>\n",
       "      <td>Ken Robinson: Do schools kill creativity?</td>\n",
       "      <td>1</td>\n",
       "      <td>1151367060</td>\n",
       "      <td>[{'id': 7, 'name': 'Funny', 'count': 19645}, {...</td>\n",
       "      <td>[{'id': 865, 'hero': 'https://pe.tedcdn.com/im...</td>\n",
       "      <td>Author/educator</td>\n",
       "      <td>['children', 'creativity', 'culture', 'dance',...</td>\n",
       "      <td>Do schools kill creativity?</td>\n",
       "      <td>https://www.ted.com/talks/ken_robinson_says_sc...</td>\n",
       "      <td>47227110</td>\n",
       "    </tr>\n",
       "    <tr>\n",
       "      <td>1</td>\n",
       "      <td>265</td>\n",
       "      <td>With the same humor and humanity he exuded in ...</td>\n",
       "      <td>977</td>\n",
       "      <td>TED2006</td>\n",
       "      <td>1140825600</td>\n",
       "      <td>43</td>\n",
       "      <td>Al Gore</td>\n",
       "      <td>Al Gore: Averting the climate crisis</td>\n",
       "      <td>1</td>\n",
       "      <td>1151367060</td>\n",
       "      <td>[{'id': 7, 'name': 'Funny', 'count': 544}, {'i...</td>\n",
       "      <td>[{'id': 243, 'hero': 'https://pe.tedcdn.com/im...</td>\n",
       "      <td>Climate advocate</td>\n",
       "      <td>['alternative energy', 'cars', 'climate change...</td>\n",
       "      <td>Averting the climate crisis</td>\n",
       "      <td>https://www.ted.com/talks/al_gore_on_averting_...</td>\n",
       "      <td>3200520</td>\n",
       "    </tr>\n",
       "    <tr>\n",
       "      <td>2</td>\n",
       "      <td>124</td>\n",
       "      <td>New York Times columnist David Pogue takes aim...</td>\n",
       "      <td>1286</td>\n",
       "      <td>TED2006</td>\n",
       "      <td>1140739200</td>\n",
       "      <td>26</td>\n",
       "      <td>David Pogue</td>\n",
       "      <td>David Pogue: Simplicity sells</td>\n",
       "      <td>1</td>\n",
       "      <td>1151367060</td>\n",
       "      <td>[{'id': 7, 'name': 'Funny', 'count': 964}, {'i...</td>\n",
       "      <td>[{'id': 1725, 'hero': 'https://pe.tedcdn.com/i...</td>\n",
       "      <td>Technology columnist</td>\n",
       "      <td>['computers', 'entertainment', 'interface desi...</td>\n",
       "      <td>Simplicity sells</td>\n",
       "      <td>https://www.ted.com/talks/david_pogue_says_sim...</td>\n",
       "      <td>1636292</td>\n",
       "    </tr>\n",
       "    <tr>\n",
       "      <td>3</td>\n",
       "      <td>200</td>\n",
       "      <td>In an emotionally charged talk, MacArthur-winn...</td>\n",
       "      <td>1116</td>\n",
       "      <td>TED2006</td>\n",
       "      <td>1140912000</td>\n",
       "      <td>35</td>\n",
       "      <td>Majora Carter</td>\n",
       "      <td>Majora Carter: Greening the ghetto</td>\n",
       "      <td>1</td>\n",
       "      <td>1151367060</td>\n",
       "      <td>[{'id': 3, 'name': 'Courageous', 'count': 760}...</td>\n",
       "      <td>[{'id': 1041, 'hero': 'https://pe.tedcdn.com/i...</td>\n",
       "      <td>Activist for environmental justice</td>\n",
       "      <td>['MacArthur grant', 'activism', 'business', 'c...</td>\n",
       "      <td>Greening the ghetto</td>\n",
       "      <td>https://www.ted.com/talks/majora_carter_s_tale...</td>\n",
       "      <td>1697550</td>\n",
       "    </tr>\n",
       "    <tr>\n",
       "      <td>4</td>\n",
       "      <td>593</td>\n",
       "      <td>You've never seen data presented like this. Wi...</td>\n",
       "      <td>1190</td>\n",
       "      <td>TED2006</td>\n",
       "      <td>1140566400</td>\n",
       "      <td>48</td>\n",
       "      <td>Hans Rosling</td>\n",
       "      <td>Hans Rosling: The best stats you've ever seen</td>\n",
       "      <td>1</td>\n",
       "      <td>1151440680</td>\n",
       "      <td>[{'id': 9, 'name': 'Ingenious', 'count': 3202}...</td>\n",
       "      <td>[{'id': 2056, 'hero': 'https://pe.tedcdn.com/i...</td>\n",
       "      <td>Global health expert; data visionary</td>\n",
       "      <td>['Africa', 'Asia', 'Google', 'demo', 'economic...</td>\n",
       "      <td>The best stats you've ever seen</td>\n",
       "      <td>https://www.ted.com/talks/hans_rosling_shows_t...</td>\n",
       "      <td>12005869</td>\n",
       "    </tr>\n",
       "  </tbody>\n",
       "</table>\n",
       "</div>"
      ],
      "text/plain": [
       "   comments                                        description  duration  \\\n",
       "0      4553  Sir Ken Robinson makes an entertaining and pro...      1164   \n",
       "1       265  With the same humor and humanity he exuded in ...       977   \n",
       "2       124  New York Times columnist David Pogue takes aim...      1286   \n",
       "3       200  In an emotionally charged talk, MacArthur-winn...      1116   \n",
       "4       593  You've never seen data presented like this. Wi...      1190   \n",
       "\n",
       "     event   film_date  languages   main_speaker  \\\n",
       "0  TED2006  1140825600         60   Ken Robinson   \n",
       "1  TED2006  1140825600         43        Al Gore   \n",
       "2  TED2006  1140739200         26    David Pogue   \n",
       "3  TED2006  1140912000         35  Majora Carter   \n",
       "4  TED2006  1140566400         48   Hans Rosling   \n",
       "\n",
       "                                            name  num_speaker  published_date  \\\n",
       "0      Ken Robinson: Do schools kill creativity?            1      1151367060   \n",
       "1           Al Gore: Averting the climate crisis            1      1151367060   \n",
       "2                  David Pogue: Simplicity sells            1      1151367060   \n",
       "3             Majora Carter: Greening the ghetto            1      1151367060   \n",
       "4  Hans Rosling: The best stats you've ever seen            1      1151440680   \n",
       "\n",
       "                                             ratings  \\\n",
       "0  [{'id': 7, 'name': 'Funny', 'count': 19645}, {...   \n",
       "1  [{'id': 7, 'name': 'Funny', 'count': 544}, {'i...   \n",
       "2  [{'id': 7, 'name': 'Funny', 'count': 964}, {'i...   \n",
       "3  [{'id': 3, 'name': 'Courageous', 'count': 760}...   \n",
       "4  [{'id': 9, 'name': 'Ingenious', 'count': 3202}...   \n",
       "\n",
       "                                       related_talks  \\\n",
       "0  [{'id': 865, 'hero': 'https://pe.tedcdn.com/im...   \n",
       "1  [{'id': 243, 'hero': 'https://pe.tedcdn.com/im...   \n",
       "2  [{'id': 1725, 'hero': 'https://pe.tedcdn.com/i...   \n",
       "3  [{'id': 1041, 'hero': 'https://pe.tedcdn.com/i...   \n",
       "4  [{'id': 2056, 'hero': 'https://pe.tedcdn.com/i...   \n",
       "\n",
       "                     speaker_occupation  \\\n",
       "0                       Author/educator   \n",
       "1                      Climate advocate   \n",
       "2                  Technology columnist   \n",
       "3    Activist for environmental justice   \n",
       "4  Global health expert; data visionary   \n",
       "\n",
       "                                                tags  \\\n",
       "0  ['children', 'creativity', 'culture', 'dance',...   \n",
       "1  ['alternative energy', 'cars', 'climate change...   \n",
       "2  ['computers', 'entertainment', 'interface desi...   \n",
       "3  ['MacArthur grant', 'activism', 'business', 'c...   \n",
       "4  ['Africa', 'Asia', 'Google', 'demo', 'economic...   \n",
       "\n",
       "                             title  \\\n",
       "0      Do schools kill creativity?   \n",
       "1      Averting the climate crisis   \n",
       "2                 Simplicity sells   \n",
       "3              Greening the ghetto   \n",
       "4  The best stats you've ever seen   \n",
       "\n",
       "                                                 url     views  \n",
       "0  https://www.ted.com/talks/ken_robinson_says_sc...  47227110  \n",
       "1  https://www.ted.com/talks/al_gore_on_averting_...   3200520  \n",
       "2  https://www.ted.com/talks/david_pogue_says_sim...   1636292  \n",
       "3  https://www.ted.com/talks/majora_carter_s_tale...   1697550  \n",
       "4  https://www.ted.com/talks/hans_rosling_shows_t...  12005869  "
      ]
     },
     "metadata": {},
     "output_type": "display_data"
    }
   ],
   "source": [
    "display(df.head(5))"
   ]
  },
  {
   "cell_type": "code",
   "execution_count": 4,
   "metadata": {},
   "outputs": [
    {
     "data": {
      "text/plain": [
       "Armando Azua-Bustos: The most Martian place on Earth                           1\n",
       "Hyeonseo Lee: My escape from North Korea                                       1\n",
       "Amory Lovins: A 40-year plan for energy                                        1\n",
       "Robin Murphy: These robots come to the rescue after a disaster                 1\n",
       "Brenda Laurel: Why not make video games for girls?                             1\n",
       "                                                                              ..\n",
       "Janet Iwasa: How animations can help scientists test a hypothesis              1\n",
       "Julian Treasure: How to speak so that people want to listen                    1\n",
       "Richard Branson: Life at 30,000 feet                                           1\n",
       "Elizabeth Nyamayaro: An invitation to men who want a better world for women    1\n",
       "Robert Ballard: The astonishing hidden world of the deep ocean                 1\n",
       "Name: name, Length: 2550, dtype: int64"
      ]
     },
     "execution_count": 4,
     "metadata": {},
     "output_type": "execute_result"
    }
   ],
   "source": [
    "# Check if all rows are unique\n",
    "df['name'].value_counts().sort_values(ascending=False)"
   ]
  },
  {
   "cell_type": "code",
   "execution_count": 5,
   "metadata": {},
   "outputs": [
    {
     "name": "stdout",
     "output_type": "stream",
     "text": [
      "https://www.ted.com/talks/brene_brown_listening_to_shame\\n                              2\n",
      "https://www.ted.com/talks/jonathan_haidt_humanity_s_stairway_to_self_transcendence\\n    2\n",
      "https://www.ted.com/talks/rob_reid_the_8_billion_ipod\\n                                 2\n",
      "Name: url, dtype: int64\n"
     ]
    }
   ],
   "source": [
    "# Check if all rows are unique\n",
    "df2_value_counts = df2['url'].value_counts().sort_values(ascending=False)\n",
    "duplicate_rows = df2_value_counts[df2_value_counts > 1]\n",
    "print(duplicate_rows)"
   ]
  },
  {
   "cell_type": "code",
   "execution_count": 6,
   "metadata": {},
   "outputs": [
    {
     "data": {
      "text/plain": [
       "array([2, 2, 2])"
      ]
     },
     "execution_count": 6,
     "metadata": {},
     "output_type": "execute_result"
    }
   ],
   "source": [
    "df2[df2['url'].isin(duplicate_rows.index)]['transcript'].value_counts().values"
   ]
  },
  {
   "cell_type": "markdown",
   "metadata": {},
   "source": [
    "Some rows in the transcript dataset are not unique. <br />\n",
    "Looking at the transcripts for these 3 talks, seems like these are just duplicates. <br />\n",
    "We delete these 3 rows. <br />"
   ]
  },
  {
   "cell_type": "code",
   "execution_count": 7,
   "metadata": {},
   "outputs": [],
   "source": [
    "# We could have just called this method and then compare the shape of the\n",
    "# dataframe before and after.\n",
    "df2 = df2.drop_duplicates()\n",
    "df = df.drop_duplicates()"
   ]
  },
  {
   "cell_type": "code",
   "execution_count": 8,
   "metadata": {},
   "outputs": [
    {
     "name": "stdout",
     "output_type": "stream",
     "text": [
      "We have 2550 data points\n"
     ]
    }
   ],
   "source": [
    "# Add the transcript to the main data frame\n",
    "df = pd.merge(df, df2, on='url', how='left')\n",
    "print('We have ' + str(df.shape[0]) + ' data points')"
   ]
  },
  {
   "cell_type": "markdown",
   "metadata": {},
   "source": [
    "### Missing data?"
   ]
  },
  {
   "cell_type": "code",
   "execution_count": 9,
   "metadata": {},
   "outputs": [
    {
     "data": {
      "text/plain": [
       "comments               0\n",
       "description            0\n",
       "duration               0\n",
       "event                  0\n",
       "film_date              0\n",
       "languages              0\n",
       "main_speaker           0\n",
       "name                   0\n",
       "num_speaker            0\n",
       "published_date         0\n",
       "ratings                0\n",
       "related_talks          0\n",
       "speaker_occupation     6\n",
       "tags                   0\n",
       "title                  0\n",
       "url                    0\n",
       "views                  0\n",
       "transcript            86\n",
       "dtype: int64"
      ]
     },
     "execution_count": 9,
     "metadata": {},
     "output_type": "execute_result"
    }
   ],
   "source": [
    "df.isnull().sum()"
   ]
  },
  {
   "cell_type": "markdown",
   "metadata": {},
   "source": [
    "Quite many are missing transcription for some reason. Fill this missing data with an empty string. We could manually search each one on Wikipedia and manually fill in this information."
   ]
  },
  {
   "cell_type": "code",
   "execution_count": 10,
   "metadata": {},
   "outputs": [],
   "source": [
    "df.transcript.fillna('', inplace=True)"
   ]
  },
  {
   "cell_type": "markdown",
   "metadata": {},
   "source": [
    "Only some speakers do not have their occupations in the dataset. We could manually search each one on Wikipedia and manually fill in this information.\n",
    "Replaced them with \"Unknown\" for now."
   ]
  },
  {
   "cell_type": "code",
   "execution_count": 11,
   "metadata": {},
   "outputs": [
    {
     "data": {
      "text/html": [
       "<div>\n",
       "<style scoped>\n",
       "    .dataframe tbody tr th:only-of-type {\n",
       "        vertical-align: middle;\n",
       "    }\n",
       "\n",
       "    .dataframe tbody tr th {\n",
       "        vertical-align: top;\n",
       "    }\n",
       "\n",
       "    .dataframe thead th {\n",
       "        text-align: right;\n",
       "    }\n",
       "</style>\n",
       "<table border=\"1\" class=\"dataframe\">\n",
       "  <thead>\n",
       "    <tr style=\"text-align: right;\">\n",
       "      <th></th>\n",
       "      <th>comments</th>\n",
       "      <th>description</th>\n",
       "      <th>duration</th>\n",
       "      <th>event</th>\n",
       "      <th>film_date</th>\n",
       "      <th>languages</th>\n",
       "      <th>main_speaker</th>\n",
       "      <th>name</th>\n",
       "      <th>num_speaker</th>\n",
       "      <th>published_date</th>\n",
       "      <th>ratings</th>\n",
       "      <th>related_talks</th>\n",
       "      <th>speaker_occupation</th>\n",
       "      <th>tags</th>\n",
       "      <th>title</th>\n",
       "      <th>url</th>\n",
       "      <th>views</th>\n",
       "      <th>transcript</th>\n",
       "    </tr>\n",
       "  </thead>\n",
       "  <tbody>\n",
       "    <tr>\n",
       "      <td>1113</td>\n",
       "      <td>145</td>\n",
       "      <td>After a crisis, how can we tell if water is sa...</td>\n",
       "      <td>217</td>\n",
       "      <td>TEDGlobal 2011</td>\n",
       "      <td>1310601600</td>\n",
       "      <td>38</td>\n",
       "      <td>Sonaar Luthra</td>\n",
       "      <td>Sonaar Luthra: Meet the Water Canary</td>\n",
       "      <td>1</td>\n",
       "      <td>1326731605</td>\n",
       "      <td>[{'id': 10, 'name': 'Inspiring', 'count': 73},...</td>\n",
       "      <td>[{'id': 523, 'hero': 'https://pe.tedcdn.com/im...</td>\n",
       "      <td>NaN</td>\n",
       "      <td>['TED Fellows', 'design', 'global development'...</td>\n",
       "      <td>Meet the Water Canary</td>\n",
       "      <td>https://www.ted.com/talks/sonaar_luthra_meet_t...</td>\n",
       "      <td>353749</td>\n",
       "      <td>Cholera was reported in Haiti for the first ti...</td>\n",
       "    </tr>\n",
       "    <tr>\n",
       "      <td>1192</td>\n",
       "      <td>122</td>\n",
       "      <td>The Pirate Party fights for transparency, anon...</td>\n",
       "      <td>1097</td>\n",
       "      <td>TEDxObserver</td>\n",
       "      <td>1331424000</td>\n",
       "      <td>10</td>\n",
       "      <td>Rick Falkvinge</td>\n",
       "      <td>Rick Falkvinge: I am a pirate</td>\n",
       "      <td>1</td>\n",
       "      <td>1333289675</td>\n",
       "      <td>[{'id': 8, 'name': 'Informative', 'count': 156...</td>\n",
       "      <td>[{'id': 1329, 'hero': 'https://pe.tedcdn.com/i...</td>\n",
       "      <td>NaN</td>\n",
       "      <td>['Internet', 'TEDx', 'global issues', 'politic...</td>\n",
       "      <td>I am a pirate</td>\n",
       "      <td>https://www.ted.com/talks/rick_falkvinge_i_am_...</td>\n",
       "      <td>181010</td>\n",
       "      <td>Thank y'all!This is going to be a motivational...</td>\n",
       "    </tr>\n",
       "    <tr>\n",
       "      <td>1220</td>\n",
       "      <td>257</td>\n",
       "      <td>As you surf the Web, information is being coll...</td>\n",
       "      <td>399</td>\n",
       "      <td>TED2012</td>\n",
       "      <td>1330473600</td>\n",
       "      <td>32</td>\n",
       "      <td>Gary Kovacs</td>\n",
       "      <td>Gary Kovacs: Tracking our online trackers</td>\n",
       "      <td>1</td>\n",
       "      <td>1336057219</td>\n",
       "      <td>[{'id': 23, 'name': 'Jaw-dropping', 'count': 9...</td>\n",
       "      <td>[{'id': 1370, 'hero': 'https://pe.tedcdn.com/i...</td>\n",
       "      <td>NaN</td>\n",
       "      <td>['Internet', 'advertising', 'business', 'priva...</td>\n",
       "      <td>Tracking our online trackers</td>\n",
       "      <td>https://www.ted.com/talks/gary_kovacs_tracking...</td>\n",
       "      <td>2098639</td>\n",
       "      <td>I don't know why, but I'm continually amazed t...</td>\n",
       "    </tr>\n",
       "    <tr>\n",
       "      <td>1656</td>\n",
       "      <td>140</td>\n",
       "      <td>In this lovely talk, TED Fellow Ryan Holladay ...</td>\n",
       "      <td>389</td>\n",
       "      <td>TED@BCG San Francisco</td>\n",
       "      <td>1383091200</td>\n",
       "      <td>33</td>\n",
       "      <td>Ryan Holladay</td>\n",
       "      <td>Ryan Holladay: To hear this music you have to ...</td>\n",
       "      <td>1</td>\n",
       "      <td>1389369735</td>\n",
       "      <td>[{'id': 1, 'name': 'Beautiful', 'count': 211},...</td>\n",
       "      <td>[{'id': 1152, 'hero': 'https://pe.tedcdn.com/i...</td>\n",
       "      <td>NaN</td>\n",
       "      <td>['TED Fellows', 'entertainment', 'music', 'tec...</td>\n",
       "      <td>To hear this music you have to be there. Liter...</td>\n",
       "      <td>https://www.ted.com/talks/ryan_holladay_to_hea...</td>\n",
       "      <td>1284510</td>\n",
       "      <td>(Music) For any of you who have visited or liv...</td>\n",
       "    </tr>\n",
       "    <tr>\n",
       "      <td>1911</td>\n",
       "      <td>48</td>\n",
       "      <td>What do you do with an outdated encyclopedia i...</td>\n",
       "      <td>366</td>\n",
       "      <td>TEDYouth 2014</td>\n",
       "      <td>1415059200</td>\n",
       "      <td>34</td>\n",
       "      <td>Brian Dettmer</td>\n",
       "      <td>Brian Dettmer: Old books reborn as art</td>\n",
       "      <td>1</td>\n",
       "      <td>1423238442</td>\n",
       "      <td>[{'id': 1, 'name': 'Beautiful', 'count': 361},...</td>\n",
       "      <td>[{'id': 610, 'hero': 'https://pe.tedcdn.com/im...</td>\n",
       "      <td>NaN</td>\n",
       "      <td>['TEDYouth', 'art', 'books', 'creativity']</td>\n",
       "      <td>Old books reborn as art</td>\n",
       "      <td>https://www.ted.com/talks/brian_dettmer_old_bo...</td>\n",
       "      <td>1159937</td>\n",
       "      <td>I'm an artist and I cut books. This is one of ...</td>\n",
       "    </tr>\n",
       "    <tr>\n",
       "      <td>1949</td>\n",
       "      <td>70</td>\n",
       "      <td>Photographer Boniface Mwangi wanted to protest...</td>\n",
       "      <td>440</td>\n",
       "      <td>TEDGlobal 2014</td>\n",
       "      <td>1413763200</td>\n",
       "      <td>33</td>\n",
       "      <td>Boniface Mwangi</td>\n",
       "      <td>Boniface Mwangi: The day I stood up alone</td>\n",
       "      <td>1</td>\n",
       "      <td>1427989423</td>\n",
       "      <td>[{'id': 3, 'name': 'Courageous', 'count': 614}...</td>\n",
       "      <td>[{'id': 1757, 'hero': 'https://pe.tedcdn.com/i...</td>\n",
       "      <td>NaN</td>\n",
       "      <td>['TED Fellows', 'activism', 'art', 'corruption...</td>\n",
       "      <td>The day I stood up alone</td>\n",
       "      <td>https://www.ted.com/talks/boniface_mwangi_boni...</td>\n",
       "      <td>1342431</td>\n",
       "      <td>People back home call me a heckler, a troublem...</td>\n",
       "    </tr>\n",
       "  </tbody>\n",
       "</table>\n",
       "</div>"
      ],
      "text/plain": [
       "      comments                                        description  duration  \\\n",
       "1113       145  After a crisis, how can we tell if water is sa...       217   \n",
       "1192       122  The Pirate Party fights for transparency, anon...      1097   \n",
       "1220       257  As you surf the Web, information is being coll...       399   \n",
       "1656       140  In this lovely talk, TED Fellow Ryan Holladay ...       389   \n",
       "1911        48  What do you do with an outdated encyclopedia i...       366   \n",
       "1949        70  Photographer Boniface Mwangi wanted to protest...       440   \n",
       "\n",
       "                      event   film_date  languages     main_speaker  \\\n",
       "1113         TEDGlobal 2011  1310601600         38    Sonaar Luthra   \n",
       "1192           TEDxObserver  1331424000         10   Rick Falkvinge   \n",
       "1220                TED2012  1330473600         32      Gary Kovacs   \n",
       "1656  TED@BCG San Francisco  1383091200         33    Ryan Holladay   \n",
       "1911          TEDYouth 2014  1415059200         34    Brian Dettmer   \n",
       "1949         TEDGlobal 2014  1413763200         33  Boniface Mwangi   \n",
       "\n",
       "                                                   name  num_speaker  \\\n",
       "1113               Sonaar Luthra: Meet the Water Canary            1   \n",
       "1192                      Rick Falkvinge: I am a pirate            1   \n",
       "1220          Gary Kovacs: Tracking our online trackers            1   \n",
       "1656  Ryan Holladay: To hear this music you have to ...            1   \n",
       "1911             Brian Dettmer: Old books reborn as art            1   \n",
       "1949          Boniface Mwangi: The day I stood up alone            1   \n",
       "\n",
       "      published_date                                            ratings  \\\n",
       "1113      1326731605  [{'id': 10, 'name': 'Inspiring', 'count': 73},...   \n",
       "1192      1333289675  [{'id': 8, 'name': 'Informative', 'count': 156...   \n",
       "1220      1336057219  [{'id': 23, 'name': 'Jaw-dropping', 'count': 9...   \n",
       "1656      1389369735  [{'id': 1, 'name': 'Beautiful', 'count': 211},...   \n",
       "1911      1423238442  [{'id': 1, 'name': 'Beautiful', 'count': 361},...   \n",
       "1949      1427989423  [{'id': 3, 'name': 'Courageous', 'count': 614}...   \n",
       "\n",
       "                                          related_talks speaker_occupation  \\\n",
       "1113  [{'id': 523, 'hero': 'https://pe.tedcdn.com/im...                NaN   \n",
       "1192  [{'id': 1329, 'hero': 'https://pe.tedcdn.com/i...                NaN   \n",
       "1220  [{'id': 1370, 'hero': 'https://pe.tedcdn.com/i...                NaN   \n",
       "1656  [{'id': 1152, 'hero': 'https://pe.tedcdn.com/i...                NaN   \n",
       "1911  [{'id': 610, 'hero': 'https://pe.tedcdn.com/im...                NaN   \n",
       "1949  [{'id': 1757, 'hero': 'https://pe.tedcdn.com/i...                NaN   \n",
       "\n",
       "                                                   tags  \\\n",
       "1113  ['TED Fellows', 'design', 'global development'...   \n",
       "1192  ['Internet', 'TEDx', 'global issues', 'politic...   \n",
       "1220  ['Internet', 'advertising', 'business', 'priva...   \n",
       "1656  ['TED Fellows', 'entertainment', 'music', 'tec...   \n",
       "1911         ['TEDYouth', 'art', 'books', 'creativity']   \n",
       "1949  ['TED Fellows', 'activism', 'art', 'corruption...   \n",
       "\n",
       "                                                  title  \\\n",
       "1113                              Meet the Water Canary   \n",
       "1192                                      I am a pirate   \n",
       "1220                       Tracking our online trackers   \n",
       "1656  To hear this music you have to be there. Liter...   \n",
       "1911                            Old books reborn as art   \n",
       "1949                           The day I stood up alone   \n",
       "\n",
       "                                                    url    views  \\\n",
       "1113  https://www.ted.com/talks/sonaar_luthra_meet_t...   353749   \n",
       "1192  https://www.ted.com/talks/rick_falkvinge_i_am_...   181010   \n",
       "1220  https://www.ted.com/talks/gary_kovacs_tracking...  2098639   \n",
       "1656  https://www.ted.com/talks/ryan_holladay_to_hea...  1284510   \n",
       "1911  https://www.ted.com/talks/brian_dettmer_old_bo...  1159937   \n",
       "1949  https://www.ted.com/talks/boniface_mwangi_boni...  1342431   \n",
       "\n",
       "                                             transcript  \n",
       "1113  Cholera was reported in Haiti for the first ti...  \n",
       "1192  Thank y'all!This is going to be a motivational...  \n",
       "1220  I don't know why, but I'm continually amazed t...  \n",
       "1656  (Music) For any of you who have visited or liv...  \n",
       "1911  I'm an artist and I cut books. This is one of ...  \n",
       "1949  People back home call me a heckler, a troublem...  "
      ]
     },
     "metadata": {},
     "output_type": "display_data"
    }
   ],
   "source": [
    "display(df[df.isnull().any(axis=1)])\n",
    "df.speaker_occupation.fillna('Unknown', inplace = True)"
   ]
  },
  {
   "cell_type": "markdown",
   "metadata": {},
   "source": [
    "## Preprocessing\n",
    "<ol>\n",
    "    <li>give ids to talks</li>\n",
    "    <li>transform the <b>film_date</b> and <b>publish_date</b> into datetime objects</li>\n",
    "    <li>transform the <b>tags</b>, <b>ratings</b> and <b>related_talks</b> stringified dictionary into dictionary objects</li>\n",
    "    <li>expand the <b>ratings</b> column in different columns </li>\n",
    "    <li>fill in missing values for speaker_occupation column</li>\n",
    "    <li>constuct related talks graph; <font color='red'>Not meaningful enough, will not save this one</font> </li>\n",
    "    <li>compute speed of talk as number of words divided by duration of the talk in minutes</li>\n",
    "    <li>add a new column called <b>event_type</b> to easily group differet ted talks types</li>\n",
    "    <li>make edges between talks based on transcripts similarities</li>\n",
    "    <li>reorder columns in a more intuitive order</li>\n",
    "  \n",
    "</ol>"
   ]
  },
  {
   "cell_type": "code",
   "execution_count": 12,
   "metadata": {},
   "outputs": [],
   "source": [
    "# 1\n",
    "# Give ids to talks\n",
    "df['talk_id'] = df.index"
   ]
  },
  {
   "cell_type": "code",
   "execution_count": 13,
   "metadata": {},
   "outputs": [],
   "source": [
    "# 2\n",
    "# Transform the film_date and publish_date to datetime objects\n",
    "# Keep only the day month and year\n",
    "df['film_date'] = pd.to_datetime(df['film_date'], unit='s').dt.strftime('%Y-%m-%d')\n",
    "df['published_date'] = pd.to_datetime(df['published_date'], unit='s').dt.strftime('%Y-%m-%d')\n",
    "df['film_date'] = pd.to_datetime(df['film_date'])\n",
    "df['published_date'] = pd.to_datetime(df['published_date'])"
   ]
  },
  {
   "cell_type": "code",
   "execution_count": 14,
   "metadata": {},
   "outputs": [],
   "source": [
    "# 3\n",
    "# Tranfrom stringified dictionary to actual dictionary and stringified list to actual list\n",
    "df['tags'] = df['tags'].apply(lambda x: literal_eval(x))\n",
    "df['ratings'] = df['ratings'].apply(lambda x: literal_eval(x))\n",
    "df['related_talks'] = df['related_talks'].apply(lambda x: literal_eval(x))"
   ]
  },
  {
   "cell_type": "code",
   "execution_count": 15,
   "metadata": {},
   "outputs": [
    {
     "name": "stdout",
     "output_type": "stream",
     "text": [
      "For each rating we have 14 categories: ['beautiful', 'confusing', 'courageous', 'fascinating', 'funny', 'informative', 'ingenious', 'inspiring', 'jaw-dropping', 'longwinded', 'obnoxious', 'ok', 'persuasive', 'unconvincing']\n",
      "One rating has the following attributes: {'id': 7, 'name': 'Funny', 'count': 19645}\n"
     ]
    },
    {
     "data": {
      "text/html": [
       "<div>\n",
       "<style scoped>\n",
       "    .dataframe tbody tr th:only-of-type {\n",
       "        vertical-align: middle;\n",
       "    }\n",
       "\n",
       "    .dataframe tbody tr th {\n",
       "        vertical-align: top;\n",
       "    }\n",
       "\n",
       "    .dataframe thead th {\n",
       "        text-align: right;\n",
       "    }\n",
       "</style>\n",
       "<table border=\"1\" class=\"dataframe\">\n",
       "  <thead>\n",
       "    <tr style=\"text-align: right;\">\n",
       "      <th></th>\n",
       "      <th>name</th>\n",
       "      <th>beautiful</th>\n",
       "      <th>confusing</th>\n",
       "      <th>courageous</th>\n",
       "      <th>fascinating</th>\n",
       "      <th>funny</th>\n",
       "      <th>informative</th>\n",
       "      <th>ingenious</th>\n",
       "      <th>inspiring</th>\n",
       "      <th>jaw-dropping</th>\n",
       "      <th>longwinded</th>\n",
       "      <th>obnoxious</th>\n",
       "      <th>ok</th>\n",
       "      <th>persuasive</th>\n",
       "      <th>unconvincing</th>\n",
       "    </tr>\n",
       "  </thead>\n",
       "  <tbody>\n",
       "    <tr>\n",
       "      <td>0</td>\n",
       "      <td>Ken Robinson: Do schools kill creativity?</td>\n",
       "      <td>4573.0</td>\n",
       "      <td>242.0</td>\n",
       "      <td>3253.0</td>\n",
       "      <td>10581.0</td>\n",
       "      <td>19645.0</td>\n",
       "      <td>7346.0</td>\n",
       "      <td>6073.0</td>\n",
       "      <td>24924.0</td>\n",
       "      <td>4439.0</td>\n",
       "      <td>387.0</td>\n",
       "      <td>209.0</td>\n",
       "      <td>1174.0</td>\n",
       "      <td>10704.0</td>\n",
       "      <td>300.0</td>\n",
       "    </tr>\n",
       "    <tr>\n",
       "      <td>1</td>\n",
       "      <td>Al Gore: Averting the climate crisis</td>\n",
       "      <td>58.0</td>\n",
       "      <td>62.0</td>\n",
       "      <td>139.0</td>\n",
       "      <td>132.0</td>\n",
       "      <td>544.0</td>\n",
       "      <td>443.0</td>\n",
       "      <td>56.0</td>\n",
       "      <td>413.0</td>\n",
       "      <td>116.0</td>\n",
       "      <td>113.0</td>\n",
       "      <td>131.0</td>\n",
       "      <td>203.0</td>\n",
       "      <td>268.0</td>\n",
       "      <td>258.0</td>\n",
       "    </tr>\n",
       "    <tr>\n",
       "      <td>2</td>\n",
       "      <td>David Pogue: Simplicity sells</td>\n",
       "      <td>60.0</td>\n",
       "      <td>27.0</td>\n",
       "      <td>45.0</td>\n",
       "      <td>166.0</td>\n",
       "      <td>964.0</td>\n",
       "      <td>395.0</td>\n",
       "      <td>183.0</td>\n",
       "      <td>230.0</td>\n",
       "      <td>54.0</td>\n",
       "      <td>78.0</td>\n",
       "      <td>142.0</td>\n",
       "      <td>146.0</td>\n",
       "      <td>230.0</td>\n",
       "      <td>104.0</td>\n",
       "    </tr>\n",
       "    <tr>\n",
       "      <td>3</td>\n",
       "      <td>Majora Carter: Greening the ghetto</td>\n",
       "      <td>291.0</td>\n",
       "      <td>32.0</td>\n",
       "      <td>760.0</td>\n",
       "      <td>132.0</td>\n",
       "      <td>59.0</td>\n",
       "      <td>380.0</td>\n",
       "      <td>105.0</td>\n",
       "      <td>1070.0</td>\n",
       "      <td>230.0</td>\n",
       "      <td>53.0</td>\n",
       "      <td>35.0</td>\n",
       "      <td>85.0</td>\n",
       "      <td>460.0</td>\n",
       "      <td>36.0</td>\n",
       "    </tr>\n",
       "    <tr>\n",
       "      <td>4</td>\n",
       "      <td>Hans Rosling: The best stats you've ever seen</td>\n",
       "      <td>942.0</td>\n",
       "      <td>72.0</td>\n",
       "      <td>318.0</td>\n",
       "      <td>4606.0</td>\n",
       "      <td>1390.0</td>\n",
       "      <td>5433.0</td>\n",
       "      <td>3202.0</td>\n",
       "      <td>2893.0</td>\n",
       "      <td>3736.0</td>\n",
       "      <td>110.0</td>\n",
       "      <td>61.0</td>\n",
       "      <td>248.0</td>\n",
       "      <td>2542.0</td>\n",
       "      <td>67.0</td>\n",
       "    </tr>\n",
       "    <tr>\n",
       "      <td>...</td>\n",
       "      <td>...</td>\n",
       "      <td>...</td>\n",
       "      <td>...</td>\n",
       "      <td>...</td>\n",
       "      <td>...</td>\n",
       "      <td>...</td>\n",
       "      <td>...</td>\n",
       "      <td>...</td>\n",
       "      <td>...</td>\n",
       "      <td>...</td>\n",
       "      <td>...</td>\n",
       "      <td>...</td>\n",
       "      <td>...</td>\n",
       "      <td>...</td>\n",
       "      <td>...</td>\n",
       "    </tr>\n",
       "    <tr>\n",
       "      <td>2545</td>\n",
       "      <td>Duarte Geraldino: What we're missing in the de...</td>\n",
       "      <td>21.0</td>\n",
       "      <td>2.0</td>\n",
       "      <td>24.0</td>\n",
       "      <td>8.0</td>\n",
       "      <td>1.0</td>\n",
       "      <td>33.0</td>\n",
       "      <td>22.0</td>\n",
       "      <td>27.0</td>\n",
       "      <td>14.0</td>\n",
       "      <td>3.0</td>\n",
       "      <td>1.0</td>\n",
       "      <td>0.0</td>\n",
       "      <td>24.0</td>\n",
       "      <td>12.0</td>\n",
       "    </tr>\n",
       "    <tr>\n",
       "      <td>2546</td>\n",
       "      <td>Armando Azua-Bustos: The most Martian place on...</td>\n",
       "      <td>4.0</td>\n",
       "      <td>0.0</td>\n",
       "      <td>2.0</td>\n",
       "      <td>32.0</td>\n",
       "      <td>20.0</td>\n",
       "      <td>38.0</td>\n",
       "      <td>6.0</td>\n",
       "      <td>20.0</td>\n",
       "      <td>8.0</td>\n",
       "      <td>0.0</td>\n",
       "      <td>0.0</td>\n",
       "      <td>13.0</td>\n",
       "      <td>7.0</td>\n",
       "      <td>1.0</td>\n",
       "    </tr>\n",
       "    <tr>\n",
       "      <td>2547</td>\n",
       "      <td>Radhika Nagpal: What intelligent machines can ...</td>\n",
       "      <td>14.0</td>\n",
       "      <td>5.0</td>\n",
       "      <td>2.0</td>\n",
       "      <td>24.0</td>\n",
       "      <td>1.0</td>\n",
       "      <td>32.0</td>\n",
       "      <td>19.0</td>\n",
       "      <td>30.0</td>\n",
       "      <td>1.0</td>\n",
       "      <td>0.0</td>\n",
       "      <td>0.0</td>\n",
       "      <td>4.0</td>\n",
       "      <td>3.0</td>\n",
       "      <td>1.0</td>\n",
       "    </tr>\n",
       "    <tr>\n",
       "      <td>2548</td>\n",
       "      <td>Theo E.J. Wilson: A black man goes undercover ...</td>\n",
       "      <td>21.0</td>\n",
       "      <td>1.0</td>\n",
       "      <td>107.0</td>\n",
       "      <td>39.0</td>\n",
       "      <td>63.0</td>\n",
       "      <td>75.0</td>\n",
       "      <td>37.0</td>\n",
       "      <td>147.0</td>\n",
       "      <td>7.0</td>\n",
       "      <td>3.0</td>\n",
       "      <td>7.0</td>\n",
       "      <td>5.0</td>\n",
       "      <td>65.0</td>\n",
       "      <td>6.0</td>\n",
       "    </tr>\n",
       "    <tr>\n",
       "      <td>2549</td>\n",
       "      <td>Karoliina Korppoo: How a video game might help...</td>\n",
       "      <td>12.0</td>\n",
       "      <td>3.0</td>\n",
       "      <td>0.0</td>\n",
       "      <td>9.0</td>\n",
       "      <td>0.0</td>\n",
       "      <td>25.0</td>\n",
       "      <td>14.0</td>\n",
       "      <td>26.0</td>\n",
       "      <td>3.0</td>\n",
       "      <td>9.0</td>\n",
       "      <td>4.0</td>\n",
       "      <td>11.0</td>\n",
       "      <td>5.0</td>\n",
       "      <td>21.0</td>\n",
       "    </tr>\n",
       "  </tbody>\n",
       "</table>\n",
       "<p>2550 rows × 15 columns</p>\n",
       "</div>"
      ],
      "text/plain": [
       "                                                   name  beautiful  confusing  \\\n",
       "0             Ken Robinson: Do schools kill creativity?     4573.0      242.0   \n",
       "1                  Al Gore: Averting the climate crisis       58.0       62.0   \n",
       "2                         David Pogue: Simplicity sells       60.0       27.0   \n",
       "3                    Majora Carter: Greening the ghetto      291.0       32.0   \n",
       "4         Hans Rosling: The best stats you've ever seen      942.0       72.0   \n",
       "...                                                 ...        ...        ...   \n",
       "2545  Duarte Geraldino: What we're missing in the de...       21.0        2.0   \n",
       "2546  Armando Azua-Bustos: The most Martian place on...        4.0        0.0   \n",
       "2547  Radhika Nagpal: What intelligent machines can ...       14.0        5.0   \n",
       "2548  Theo E.J. Wilson: A black man goes undercover ...       21.0        1.0   \n",
       "2549  Karoliina Korppoo: How a video game might help...       12.0        3.0   \n",
       "\n",
       "      courageous  fascinating    funny  informative  ingenious  inspiring  \\\n",
       "0         3253.0      10581.0  19645.0       7346.0     6073.0    24924.0   \n",
       "1          139.0        132.0    544.0        443.0       56.0      413.0   \n",
       "2           45.0        166.0    964.0        395.0      183.0      230.0   \n",
       "3          760.0        132.0     59.0        380.0      105.0     1070.0   \n",
       "4          318.0       4606.0   1390.0       5433.0     3202.0     2893.0   \n",
       "...          ...          ...      ...          ...        ...        ...   \n",
       "2545        24.0          8.0      1.0         33.0       22.0       27.0   \n",
       "2546         2.0         32.0     20.0         38.0        6.0       20.0   \n",
       "2547         2.0         24.0      1.0         32.0       19.0       30.0   \n",
       "2548       107.0         39.0     63.0         75.0       37.0      147.0   \n",
       "2549         0.0          9.0      0.0         25.0       14.0       26.0   \n",
       "\n",
       "      jaw-dropping  longwinded  obnoxious      ok  persuasive  unconvincing  \n",
       "0           4439.0       387.0      209.0  1174.0     10704.0         300.0  \n",
       "1            116.0       113.0      131.0   203.0       268.0         258.0  \n",
       "2             54.0        78.0      142.0   146.0       230.0         104.0  \n",
       "3            230.0        53.0       35.0    85.0       460.0          36.0  \n",
       "4           3736.0       110.0       61.0   248.0      2542.0          67.0  \n",
       "...            ...         ...        ...     ...         ...           ...  \n",
       "2545          14.0         3.0        1.0     0.0        24.0          12.0  \n",
       "2546           8.0         0.0        0.0    13.0         7.0           1.0  \n",
       "2547           1.0         0.0        0.0     4.0         3.0           1.0  \n",
       "2548           7.0         3.0        7.0     5.0        65.0           6.0  \n",
       "2549           3.0         9.0        4.0    11.0         5.0          21.0  \n",
       "\n",
       "[2550 rows x 15 columns]"
      ]
     },
     "metadata": {},
     "output_type": "display_data"
    }
   ],
   "source": [
    "# 4\n",
    "# Expand the ratings column in different columns\n",
    "def extract_ratings_name(x):\n",
    "    rating_names = []\n",
    "    for rating in x:\n",
    "        rating_names.append(str(rating['name']).lower())\n",
    "    rating_names.sort()\n",
    "    return rating_names\n",
    "\n",
    "ratings_name = extract_ratings_name(df.iloc[0][['ratings']][0])\n",
    "print('For each rating we have ' + str(len(ratings_name)) + ' categories: ' + str(ratings_name))\n",
    "print('One rating has the following attributes: ' + str(df.iloc[0][['ratings']][0][0]))\n",
    " \n",
    "for index, row in df.iterrows():\n",
    "    for item in row['ratings']:\n",
    "        df.loc[index, item['name'].lower()] = int(item['count'])\n",
    "display(df[['name'] + ratings_name])        "
   ]
  },
  {
   "cell_type": "code",
   "execution_count": 16,
   "metadata": {},
   "outputs": [
    {
     "name": "stdout",
     "output_type": "stream",
     "text": [
      "We have 1459 different occupations\n"
     ]
    },
    {
     "data": {
      "text/plain": [
       "Writer                                 45\n",
       "Designer                               34\n",
       "Artist                                 34\n",
       "Journalist                             33\n",
       "Entrepreneur                           31\n",
       "                                       ..\n",
       "Skater                                  1\n",
       "Organizational change expert            1\n",
       "Journalist, runner                      1\n",
       "Bees scholar                            1\n",
       "Historian of technology and culture     1\n",
       "Name: speaker_occupation, Length: 1459, dtype: int64"
      ]
     },
     "metadata": {},
     "output_type": "display_data"
    }
   ],
   "source": [
    "# 5\n",
    "# Fill in missing values for speaker_occupation column\n",
    "print('We have ' + str(df['speaker_occupation'].nunique()) + ' different occupations')\n",
    "display(df['speaker_occupation'].value_counts())\n",
    "# Fill in missing data\n",
    "df['speaker_ocupation'] = df['speaker_occupation'].str.lower()\n",
    "# Taken from TED website\n",
    "df.loc[df['main_speaker'] == 'Sonar Luthra', 'speaker_occupation'] = 'water data wrangler'\n",
    "df.loc[df['main_speaker'] == 'Ryan Holladay', 'speaker_occupation'] = 'musician'\n",
    "# Taken from Wikipedia\n",
    "df.loc[df['main_speaker'] == 'Rick Falkvinge', 'speaker_occupation'] = 'it entrepreneur, politician'\n",
    "df.loc[df['main_speaker'] == 'Gary Kovacs', 'speaker_occupation'] = 'ceo'\n",
    "df.loc[df['main_speaker'] == 'Brian Dettmer', 'speaker_occupation'] = 'artist'\n",
    "df.loc[df['main_speaker'] == 'Boniface Mwangi', 'speaker_occupation'] = 'photojournalist'"
   ]
  },
  {
   "cell_type": "code",
   "execution_count": 17,
   "metadata": {},
   "outputs": [],
   "source": [
    "# 6\n",
    "# Construct related talks graph\n",
    "unstack_edges = df.apply(lambda x: pd.Series(x['related_talks']), axis=1).stack().reset_index(level=1, drop=True)\n",
    "unstack_edges.name = 'related_talk'\n",
    "\n",
    "edges_related = df.drop('related_talks', axis=1).join(unstack_edges)[['title', 'related_talk']]\n",
    "edges_related['related_talk'] = edges_related['related_talk'].apply(lambda x: x['title'])\n",
    "edges_related.rename(columns = {'title': 'source', 'related_talk': 'target'}, inplace=True)\n",
    "talksG = nx.from_pandas_edgelist(edges_related, 'source', 'target', edge_attr=None, create_using=nx.Graph())\n",
    "plt.figure(figsize=(20, 20))\n",
    "nx.draw(talksG, with_labels=False)\n",
    "plt.savefig('figures/graph_related_talks.pdf')\n",
    "plt.close()"
   ]
  },
  {
   "cell_type": "code",
   "execution_count": 18,
   "metadata": {},
   "outputs": [
    {
     "name": "stdout",
     "output_type": "stream",
     "text": [
      "Number of edges: 12479\n",
      "Number of nodes: 2550\n",
      "Number of connected components: 1\n"
     ]
    }
   ],
   "source": [
    "print('Number of edges: {0}'.format(talksG.number_of_edges()))\n",
    "print('Number of nodes: {0}'.format(talksG.number_of_nodes()))\n",
    "print('Number of connected components: {0}'.format(nx.number_connected_components(talksG)))"
   ]
  },
  {
   "cell_type": "code",
   "execution_count": 19,
   "metadata": {},
   "outputs": [],
   "source": [
    "# 7\n",
    "# Compute speed of talk as number of words divided by duration of the talk in minutes\n",
    "df['number_of_words'] = df['transcript'].apply(lambda x: len(x.split()))\n",
    "df['duration'] = df['duration'] / 60\n",
    "\n",
    "df['speed_of_speech'] = df['number_of_words'] / df['duration']"
   ]
  },
  {
   "cell_type": "code",
   "execution_count": 20,
   "metadata": {},
   "outputs": [],
   "source": [
    "# 8\n",
    "# Add new column event_type to easily group different ted talks types\n",
    "df['event_type'] = 'external'\n",
    "\n",
    "# should still start with TED\n",
    "maskSatellite =  [bool(re.search(\"^TED\", event)) for event in df['event']] \n",
    "df.loc[maskSatellite, 'event_type'] = 'satellite'\n",
    "\n",
    "# should still start with TED\n",
    "maskTedx =  [bool(re.search(\"^TEDx\", event)) for event in df['event']]\n",
    "df.loc[maskTedx, 'event_type'] = 'tedx'\n",
    "\n",
    "mask =  [bool(re.search(\"^TEDGlobal\", event)) for event in df['event']]\n",
    "df.loc[mask, 'event_type'] = 'global'\n",
    "\n",
    "mask =  [bool(re.search(\"^TEDMED\", event)) for event in df['event']]\n",
    "df.loc[mask, 'event_type'] = 'med'\n",
    "\n",
    "mask =  [bool(re.search(\"^TEDSalon\", event)) for event in df['event']]\n",
    "df.loc[mask, 'event_type'] = 'salon'\n",
    "\n",
    "mask =  [bool(re.search(\"^TEDWomen\", event)) for event in df['event']]\n",
    "df.loc[mask, 'event_type'] = 'women'\n",
    "\n",
    "mask =  [bool(re.search(\"^TEDYouth\", event)) for event in df['event']]\n",
    "df.loc[mask, 'event_type'] = 'youth'\n",
    "\n",
    "mask =  [bool(re.search(\"^TED\\d\\d\\d\\d$\", event)) for event in df['event']]\n",
    "df.loc[mask, 'event_type'] = 'main'"
   ]
  },
  {
   "cell_type": "code",
   "execution_count": 21,
   "metadata": {},
   "outputs": [
    {
     "name": "stdout",
     "output_type": "stream",
     "text": [
      "TF IDF matrix shape (2464, 58489)\n"
     ]
    }
   ],
   "source": [
    "# 9\n",
    "# Make edges between talks based on transcripts cosine similarities\n",
    "filter_talks = df[df['transcript'] != ''].reset_index()\n",
    "transcripts_text = filter_talks['transcript'].tolist()\n",
    "# Compute TF_IDF of all talks transcripts\n",
    "tf_idf = text.TfidfVectorizer(input=transcripts_text, stop_words='english')\n",
    "matrix = tf_idf.fit_transform(transcripts_text)\n",
    "print('TF IDF matrix shape {0}'.format(matrix.shape))\n",
    "\n",
    "# Computer pairwise cosine similiraty of the talks\n",
    "similarity = cosine_similarity(matrix)"
   ]
  },
  {
   "cell_type": "code",
   "execution_count": 22,
   "metadata": {},
   "outputs": [
    {
     "data": {
      "text/plain": [
       "(array([5.654438e+06, 3.991500e+05, 1.255400e+04, 1.924000e+03,\n",
       "        5.120000e+02, 1.740000e+02, 5.200000e+01, 8.000000e+00,\n",
       "        0.000000e+00, 2.484000e+03]),\n",
       " array([ 0.,  1.,  2.,  3.,  4.,  5.,  6.,  7.,  8.,  9., 10.]),\n",
       " <a list of 10 Patch objects>)"
      ]
     },
     "execution_count": 22,
     "metadata": {},
     "output_type": "execute_result"
    },
    {
     "data": {
      "image/png": "[encoded data removed]",
      "text/plain": [
       "<Figure size 432x288 with 1 Axes>"
      ]
     },
     "metadata": {
      "needs_background": "light"
     },
     "output_type": "display_data"
    }
   ],
   "source": [
    "plt.yscale('log')\n",
    "plt.hist(similarity.flatten()*10)"
   ]
  },
  {
   "cell_type": "code",
   "execution_count": 23,
   "metadata": {},
   "outputs": [
    {
     "name": "stdout",
     "output_type": "stream",
     "text": [
      "Number of edges: 7622\n",
      "Number of nodes: 1902\n",
      "Number of connected components: 57\n"
     ]
    }
   ],
   "source": [
    "# For a given talk, keep only those talks which have similarity\n",
    "# above a threshold based on the above histogram\n",
    "def get_similar_articles(dist, threshold):\n",
    "    similar = []\n",
    "    for i, value in np.ndenumerate(dist):\n",
    "        if value >= threshold:\n",
    "            similar.append((i[0], value))\n",
    "    return similar\n",
    "\n",
    "# The order of the talks in the dataframe should be preserved in the similarity\n",
    "# matrix.\n",
    "filter_talks['similar_talks'] = [get_similar_articles(dist, 0.2) for dist in similarity]\n",
    "\n",
    "# Construct edges\n",
    "edges_d = {\n",
    "    'source': [],\n",
    "    'target': [],\n",
    "    'weight': [],\n",
    "}\n",
    "\n",
    "df['related_talks'] = [list() for x in range(len(df.index))]\n",
    "\n",
    "for i, row in filter_talks.iterrows():\n",
    "    talks = row['similar_talks']\n",
    "    source_talk_id = row['talk_id']\n",
    "    for talk_idx, weight in talks:\n",
    "        target_talk_id = filter_talks.iloc[talk_idx]['talk_id']\n",
    "        # Graph is undirected\n",
    "        if source_talk_id < target_talk_id:\n",
    "            edges_d['source'].append(source_talk_id)\n",
    "            edges_d['target'].append(target_talk_id)\n",
    "            edges_d['weight'].append(weight)\n",
    "            df[df['talk_id'] == source_talk_id]['related_talks'].apply(lambda x: x.append(target_talk_id))\n",
    "            df[df['talk_id'] == target_talk_id]['related_talks'].apply(lambda x: x.append(source_talk_id))\n",
    "            \n",
    "        \n",
    "edges = pd.DataFrame.from_dict(edges_d)\n",
    "talksG_t = nx.from_pandas_edgelist(edges, 'source', 'target', edge_attr=None, create_using=nx.Graph())\n",
    "plt.figure(figsize=(20, 20))\n",
    "nx.draw(talksG_t, with_labels=False)\n",
    "plt.savefig('figures/graph_cosine_sim.pdf')\n",
    "plt.close()\n",
    "print('Number of edges: {0}'.format(talksG_t.number_of_edges()))\n",
    "print('Number of nodes: {0}'.format(talksG_t.number_of_nodes()))\n",
    "print('Number of connected components: {0}'.format(nx.number_connected_components(talksG_t)))"
   ]
  },
  {
   "cell_type": "code",
   "execution_count": 24,
   "metadata": {},
   "outputs": [
    {
     "data": {
      "text/html": [
       "<div>\n",
       "<style scoped>\n",
       "    .dataframe tbody tr th:only-of-type {\n",
       "        vertical-align: middle;\n",
       "    }\n",
       "\n",
       "    .dataframe tbody tr th {\n",
       "        vertical-align: top;\n",
       "    }\n",
       "\n",
       "    .dataframe thead th {\n",
       "        text-align: right;\n",
       "    }\n",
       "</style>\n",
       "<table border=\"1\" class=\"dataframe\">\n",
       "  <thead>\n",
       "    <tr style=\"text-align: right;\">\n",
       "      <th></th>\n",
       "      <th>talk_id</th>\n",
       "      <th>name</th>\n",
       "      <th>title</th>\n",
       "      <th>description</th>\n",
       "      <th>url</th>\n",
       "      <th>duration</th>\n",
       "      <th>film_date</th>\n",
       "      <th>published_date</th>\n",
       "      <th>number_of_words</th>\n",
       "      <th>languages</th>\n",
       "      <th>...</th>\n",
       "      <th>funny</th>\n",
       "      <th>informative</th>\n",
       "      <th>ingenious</th>\n",
       "      <th>inspiring</th>\n",
       "      <th>jaw-dropping</th>\n",
       "      <th>longwinded</th>\n",
       "      <th>ok</th>\n",
       "      <th>obnoxious</th>\n",
       "      <th>persuasive</th>\n",
       "      <th>unconvincing</th>\n",
       "    </tr>\n",
       "  </thead>\n",
       "  <tbody>\n",
       "    <tr>\n",
       "      <td>0</td>\n",
       "      <td>0</td>\n",
       "      <td>Ken Robinson: Do schools kill creativity?</td>\n",
       "      <td>Do schools kill creativity?</td>\n",
       "      <td>Sir Ken Robinson makes an entertaining and pro...</td>\n",
       "      <td>https://www.ted.com/talks/ken_robinson_says_sc...</td>\n",
       "      <td>19.400000</td>\n",
       "      <td>2006-02-25</td>\n",
       "      <td>2006-06-27</td>\n",
       "      <td>3066</td>\n",
       "      <td>60</td>\n",
       "      <td>...</td>\n",
       "      <td>19645.0</td>\n",
       "      <td>7346.0</td>\n",
       "      <td>6073.0</td>\n",
       "      <td>24924.0</td>\n",
       "      <td>4439.0</td>\n",
       "      <td>387.0</td>\n",
       "      <td>1174.0</td>\n",
       "      <td>209.0</td>\n",
       "      <td>10704.0</td>\n",
       "      <td>300.0</td>\n",
       "    </tr>\n",
       "    <tr>\n",
       "      <td>1</td>\n",
       "      <td>1</td>\n",
       "      <td>Al Gore: Averting the climate crisis</td>\n",
       "      <td>Averting the climate crisis</td>\n",
       "      <td>With the same humor and humanity he exuded in ...</td>\n",
       "      <td>https://www.ted.com/talks/al_gore_on_averting_...</td>\n",
       "      <td>16.283333</td>\n",
       "      <td>2006-02-25</td>\n",
       "      <td>2006-06-27</td>\n",
       "      <td>2089</td>\n",
       "      <td>43</td>\n",
       "      <td>...</td>\n",
       "      <td>544.0</td>\n",
       "      <td>443.0</td>\n",
       "      <td>56.0</td>\n",
       "      <td>413.0</td>\n",
       "      <td>116.0</td>\n",
       "      <td>113.0</td>\n",
       "      <td>203.0</td>\n",
       "      <td>131.0</td>\n",
       "      <td>268.0</td>\n",
       "      <td>258.0</td>\n",
       "    </tr>\n",
       "    <tr>\n",
       "      <td>2</td>\n",
       "      <td>2</td>\n",
       "      <td>David Pogue: Simplicity sells</td>\n",
       "      <td>Simplicity sells</td>\n",
       "      <td>New York Times columnist David Pogue takes aim...</td>\n",
       "      <td>https://www.ted.com/talks/david_pogue_says_sim...</td>\n",
       "      <td>21.433333</td>\n",
       "      <td>2006-02-24</td>\n",
       "      <td>2006-06-27</td>\n",
       "      <td>3253</td>\n",
       "      <td>26</td>\n",
       "      <td>...</td>\n",
       "      <td>964.0</td>\n",
       "      <td>395.0</td>\n",
       "      <td>183.0</td>\n",
       "      <td>230.0</td>\n",
       "      <td>54.0</td>\n",
       "      <td>78.0</td>\n",
       "      <td>146.0</td>\n",
       "      <td>142.0</td>\n",
       "      <td>230.0</td>\n",
       "      <td>104.0</td>\n",
       "    </tr>\n",
       "    <tr>\n",
       "      <td>3</td>\n",
       "      <td>3</td>\n",
       "      <td>Majora Carter: Greening the ghetto</td>\n",
       "      <td>Greening the ghetto</td>\n",
       "      <td>In an emotionally charged talk, MacArthur-winn...</td>\n",
       "      <td>https://www.ted.com/talks/majora_carter_s_tale...</td>\n",
       "      <td>18.600000</td>\n",
       "      <td>2006-02-26</td>\n",
       "      <td>2006-06-27</td>\n",
       "      <td>3015</td>\n",
       "      <td>35</td>\n",
       "      <td>...</td>\n",
       "      <td>59.0</td>\n",
       "      <td>380.0</td>\n",
       "      <td>105.0</td>\n",
       "      <td>1070.0</td>\n",
       "      <td>230.0</td>\n",
       "      <td>53.0</td>\n",
       "      <td>85.0</td>\n",
       "      <td>35.0</td>\n",
       "      <td>460.0</td>\n",
       "      <td>36.0</td>\n",
       "    </tr>\n",
       "    <tr>\n",
       "      <td>4</td>\n",
       "      <td>4</td>\n",
       "      <td>Hans Rosling: The best stats you've ever seen</td>\n",
       "      <td>The best stats you've ever seen</td>\n",
       "      <td>You've never seen data presented like this. Wi...</td>\n",
       "      <td>https://www.ted.com/talks/hans_rosling_shows_t...</td>\n",
       "      <td>19.833333</td>\n",
       "      <td>2006-02-22</td>\n",
       "      <td>2006-06-27</td>\n",
       "      <td>3121</td>\n",
       "      <td>48</td>\n",
       "      <td>...</td>\n",
       "      <td>1390.0</td>\n",
       "      <td>5433.0</td>\n",
       "      <td>3202.0</td>\n",
       "      <td>2893.0</td>\n",
       "      <td>3736.0</td>\n",
       "      <td>110.0</td>\n",
       "      <td>248.0</td>\n",
       "      <td>61.0</td>\n",
       "      <td>2542.0</td>\n",
       "      <td>67.0</td>\n",
       "    </tr>\n",
       "  </tbody>\n",
       "</table>\n",
       "<p>5 rows × 35 columns</p>\n",
       "</div>"
      ],
      "text/plain": [
       "   talk_id                                           name  \\\n",
       "0        0      Ken Robinson: Do schools kill creativity?   \n",
       "1        1           Al Gore: Averting the climate crisis   \n",
       "2        2                  David Pogue: Simplicity sells   \n",
       "3        3             Majora Carter: Greening the ghetto   \n",
       "4        4  Hans Rosling: The best stats you've ever seen   \n",
       "\n",
       "                             title  \\\n",
       "0      Do schools kill creativity?   \n",
       "1      Averting the climate crisis   \n",
       "2                 Simplicity sells   \n",
       "3              Greening the ghetto   \n",
       "4  The best stats you've ever seen   \n",
       "\n",
       "                                         description  \\\n",
       "0  Sir Ken Robinson makes an entertaining and pro...   \n",
       "1  With the same humor and humanity he exuded in ...   \n",
       "2  New York Times columnist David Pogue takes aim...   \n",
       "3  In an emotionally charged talk, MacArthur-winn...   \n",
       "4  You've never seen data presented like this. Wi...   \n",
       "\n",
       "                                                 url   duration  film_date  \\\n",
       "0  https://www.ted.com/talks/ken_robinson_says_sc...  19.400000 2006-02-25   \n",
       "1  https://www.ted.com/talks/al_gore_on_averting_...  16.283333 2006-02-25   \n",
       "2  https://www.ted.com/talks/david_pogue_says_sim...  21.433333 2006-02-24   \n",
       "3  https://www.ted.com/talks/majora_carter_s_tale...  18.600000 2006-02-26   \n",
       "4  https://www.ted.com/talks/hans_rosling_shows_t...  19.833333 2006-02-22   \n",
       "\n",
       "  published_date  number_of_words  languages  ...    funny  informative  \\\n",
       "0     2006-06-27             3066         60  ...  19645.0       7346.0   \n",
       "1     2006-06-27             2089         43  ...    544.0        443.0   \n",
       "2     2006-06-27             3253         26  ...    964.0        395.0   \n",
       "3     2006-06-27             3015         35  ...     59.0        380.0   \n",
       "4     2006-06-27             3121         48  ...   1390.0       5433.0   \n",
       "\n",
       "  ingenious inspiring  jaw-dropping  longwinded      ok obnoxious persuasive  \\\n",
       "0    6073.0   24924.0        4439.0       387.0  1174.0     209.0    10704.0   \n",
       "1      56.0     413.0         116.0       113.0   203.0     131.0      268.0   \n",
       "2     183.0     230.0          54.0        78.0   146.0     142.0      230.0   \n",
       "3     105.0    1070.0         230.0        53.0    85.0      35.0      460.0   \n",
       "4    3202.0    2893.0        3736.0       110.0   248.0      61.0     2542.0   \n",
       "\n",
       "  unconvincing  \n",
       "0        300.0  \n",
       "1        258.0  \n",
       "2        104.0  \n",
       "3         36.0  \n",
       "4         67.0  \n",
       "\n",
       "[5 rows x 35 columns]"
      ]
     },
     "metadata": {},
     "output_type": "display_data"
    }
   ],
   "source": [
    "# 10\n",
    "# Reorder columns\n",
    "df = df[['talk_id', 'name', 'title', 'description','url', 'duration', 'film_date', 'published_date',  'number_of_words', \\\n",
    "         'languages', 'comments', 'views', \\\n",
    "         'main_speaker', 'speaker_occupation', 'num_speaker', 'speed_of_speech', \\\n",
    "         'event', 'event_type',  \\\n",
    "         'related_talks', 'tags', \\\n",
    "         'ratings', 'beautiful', 'confusing', 'courageous', \\\n",
    "         'fascinating', 'funny', 'informative', 'ingenious', 'inspiring', 'jaw-dropping', \\\n",
    "         'longwinded', 'ok', 'obnoxious', 'persuasive', 'unconvincing']]\n",
    "display(df.head(5))"
   ]
  },
  {
   "cell_type": "code",
   "execution_count": 25,
   "metadata": {},
   "outputs": [
    {
     "data": {
      "text/html": [
       "<div>\n",
       "<style scoped>\n",
       "    .dataframe tbody tr th:only-of-type {\n",
       "        vertical-align: middle;\n",
       "    }\n",
       "\n",
       "    .dataframe tbody tr th {\n",
       "        vertical-align: top;\n",
       "    }\n",
       "\n",
       "    .dataframe thead th {\n",
       "        text-align: right;\n",
       "    }\n",
       "</style>\n",
       "<table border=\"1\" class=\"dataframe\">\n",
       "  <thead>\n",
       "    <tr style=\"text-align: right;\">\n",
       "      <th></th>\n",
       "      <th>talk_id</th>\n",
       "      <th>name</th>\n",
       "      <th>title</th>\n",
       "      <th>description</th>\n",
       "      <th>url</th>\n",
       "      <th>duration</th>\n",
       "      <th>film_date</th>\n",
       "      <th>published_date</th>\n",
       "      <th>number_of_words</th>\n",
       "      <th>languages</th>\n",
       "      <th>...</th>\n",
       "      <th>funny</th>\n",
       "      <th>informative</th>\n",
       "      <th>ingenious</th>\n",
       "      <th>inspiring</th>\n",
       "      <th>jaw-dropping</th>\n",
       "      <th>longwinded</th>\n",
       "      <th>ok</th>\n",
       "      <th>obnoxious</th>\n",
       "      <th>persuasive</th>\n",
       "      <th>unconvincing</th>\n",
       "    </tr>\n",
       "  </thead>\n",
       "  <tbody>\n",
       "    <tr>\n",
       "      <td>323</td>\n",
       "      <td>323</td>\n",
       "      <td>Jackie Tabick: The balancing act of compassion</td>\n",
       "      <td>The balancing act of compassion</td>\n",
       "      <td>While we all agree that compassion is a great ...</td>\n",
       "      <td>https://www.ted.com/talks/jackie_tabick\\n</td>\n",
       "      <td>15.766667</td>\n",
       "      <td>2009-10-01</td>\n",
       "      <td>2008-10-31</td>\n",
       "      <td>1990</td>\n",
       "      <td>30</td>\n",
       "      <td>...</td>\n",
       "      <td>0.0</td>\n",
       "      <td>11.0</td>\n",
       "      <td>3.0</td>\n",
       "      <td>45.0</td>\n",
       "      <td>2.0</td>\n",
       "      <td>30.0</td>\n",
       "      <td>14.0</td>\n",
       "      <td>13.0</td>\n",
       "      <td>21.0</td>\n",
       "      <td>20.0</td>\n",
       "    </tr>\n",
       "    <tr>\n",
       "      <td>324</td>\n",
       "      <td>324</td>\n",
       "      <td>Dayananda Saraswati: The profound journey of c...</td>\n",
       "      <td>The profound journey of compassion</td>\n",
       "      <td>Swami Dayananda Saraswati unravels the paralle...</td>\n",
       "      <td>https://www.ted.com/talks/swami_dayananda_sara...</td>\n",
       "      <td>16.900000</td>\n",
       "      <td>2009-10-01</td>\n",
       "      <td>2008-10-31</td>\n",
       "      <td>1238</td>\n",
       "      <td>38</td>\n",
       "      <td>...</td>\n",
       "      <td>20.0</td>\n",
       "      <td>68.0</td>\n",
       "      <td>38.0</td>\n",
       "      <td>369.0</td>\n",
       "      <td>30.0</td>\n",
       "      <td>23.0</td>\n",
       "      <td>21.0</td>\n",
       "      <td>4.0</td>\n",
       "      <td>105.0</td>\n",
       "      <td>9.0</td>\n",
       "    </tr>\n",
       "    <tr>\n",
       "      <td>325</td>\n",
       "      <td>325</td>\n",
       "      <td>James Forbes: Compassion at the dinner table</td>\n",
       "      <td>Compassion at the dinner table</td>\n",
       "      <td>Join Rev. James Forbes at the dinner table of ...</td>\n",
       "      <td>https://www.ted.com/talks/james_forbes\\n</td>\n",
       "      <td>18.633333</td>\n",
       "      <td>2009-10-01</td>\n",
       "      <td>2008-10-31</td>\n",
       "      <td>2328</td>\n",
       "      <td>20</td>\n",
       "      <td>...</td>\n",
       "      <td>6.0</td>\n",
       "      <td>12.0</td>\n",
       "      <td>3.0</td>\n",
       "      <td>73.0</td>\n",
       "      <td>1.0</td>\n",
       "      <td>15.0</td>\n",
       "      <td>13.0</td>\n",
       "      <td>12.0</td>\n",
       "      <td>15.0</td>\n",
       "      <td>6.0</td>\n",
       "    </tr>\n",
       "    <tr>\n",
       "      <td>326</td>\n",
       "      <td>326</td>\n",
       "      <td>Feisal Abdul Rauf: Lose your ego, find your co...</td>\n",
       "      <td>Lose your ego, find your compassion</td>\n",
       "      <td>Imam Faisal Abdul Rauf combines the teachings ...</td>\n",
       "      <td>https://www.ted.com/talks/imam_feisal_abdul_ra...</td>\n",
       "      <td>16.783333</td>\n",
       "      <td>2009-10-14</td>\n",
       "      <td>2008-10-31</td>\n",
       "      <td>1882</td>\n",
       "      <td>47</td>\n",
       "      <td>...</td>\n",
       "      <td>0.0</td>\n",
       "      <td>64.0</td>\n",
       "      <td>8.0</td>\n",
       "      <td>274.0</td>\n",
       "      <td>12.0</td>\n",
       "      <td>35.0</td>\n",
       "      <td>16.0</td>\n",
       "      <td>24.0</td>\n",
       "      <td>56.0</td>\n",
       "      <td>40.0</td>\n",
       "    </tr>\n",
       "    <tr>\n",
       "      <td>327</td>\n",
       "      <td>327</td>\n",
       "      <td>Robert Thurman: Expanding your circle of compa...</td>\n",
       "      <td>Expanding your circle of compassion</td>\n",
       "      <td>It's hard to always show compassion -- even to...</td>\n",
       "      <td>https://www.ted.com/talks/robert_thurman_on_co...</td>\n",
       "      <td>18.116667</td>\n",
       "      <td>2009-10-01</td>\n",
       "      <td>2008-10-31</td>\n",
       "      <td>3317</td>\n",
       "      <td>27</td>\n",
       "      <td>...</td>\n",
       "      <td>18.0</td>\n",
       "      <td>23.0</td>\n",
       "      <td>6.0</td>\n",
       "      <td>148.0</td>\n",
       "      <td>8.0</td>\n",
       "      <td>20.0</td>\n",
       "      <td>26.0</td>\n",
       "      <td>12.0</td>\n",
       "      <td>35.0</td>\n",
       "      <td>11.0</td>\n",
       "    </tr>\n",
       "    <tr>\n",
       "      <td>328</td>\n",
       "      <td>328</td>\n",
       "      <td>Robert Wright: The evolution of compassion</td>\n",
       "      <td>The evolution of compassion</td>\n",
       "      <td>Robert Wright uses evolutionary biology and ga...</td>\n",
       "      <td>https://www.ted.com/talks/robert_wright_the_ev...</td>\n",
       "      <td>16.933333</td>\n",
       "      <td>2009-10-14</td>\n",
       "      <td>2008-10-31</td>\n",
       "      <td>2754</td>\n",
       "      <td>21</td>\n",
       "      <td>...</td>\n",
       "      <td>8.0</td>\n",
       "      <td>88.0</td>\n",
       "      <td>11.0</td>\n",
       "      <td>57.0</td>\n",
       "      <td>4.0</td>\n",
       "      <td>32.0</td>\n",
       "      <td>27.0</td>\n",
       "      <td>7.0</td>\n",
       "      <td>64.0</td>\n",
       "      <td>20.0</td>\n",
       "    </tr>\n",
       "    <tr>\n",
       "      <td>614</td>\n",
       "      <td>614</td>\n",
       "      <td>Jamie Oliver: Teach every child about food</td>\n",
       "      <td>Teach every child about food</td>\n",
       "      <td>Sharing powerful stories from his anti-obesity...</td>\n",
       "      <td>https://www.ted.com/talks/jamie_oliver\\n</td>\n",
       "      <td>21.883333</td>\n",
       "      <td>2010-02-20</td>\n",
       "      <td>2010-02-11</td>\n",
       "      <td>3178</td>\n",
       "      <td>49</td>\n",
       "      <td>...</td>\n",
       "      <td>359.0</td>\n",
       "      <td>2606.0</td>\n",
       "      <td>297.0</td>\n",
       "      <td>4779.0</td>\n",
       "      <td>1413.0</td>\n",
       "      <td>99.0</td>\n",
       "      <td>249.0</td>\n",
       "      <td>109.0</td>\n",
       "      <td>3316.0</td>\n",
       "      <td>113.0</td>\n",
       "    </tr>\n",
       "    <tr>\n",
       "      <td>857</td>\n",
       "      <td>857</td>\n",
       "      <td>Ariel Garten: Know thyself, with a brain scanner</td>\n",
       "      <td>Know thyself, with a brain scanner</td>\n",
       "      <td>Imagine playing a video game controlled by you...</td>\n",
       "      <td>https://www.ted.com/talks/ariel_garten_know_th...</td>\n",
       "      <td>15.066667</td>\n",
       "      <td>2011-09-23</td>\n",
       "      <td>2011-01-26</td>\n",
       "      <td>2447</td>\n",
       "      <td>26</td>\n",
       "      <td>...</td>\n",
       "      <td>1.0</td>\n",
       "      <td>95.0</td>\n",
       "      <td>60.0</td>\n",
       "      <td>94.0</td>\n",
       "      <td>31.0</td>\n",
       "      <td>106.0</td>\n",
       "      <td>84.0</td>\n",
       "      <td>44.0</td>\n",
       "      <td>28.0</td>\n",
       "      <td>156.0</td>\n",
       "    </tr>\n",
       "    <tr>\n",
       "      <td>1493</td>\n",
       "      <td>1493</td>\n",
       "      <td>Rita Pierson: Every kid needs a champion</td>\n",
       "      <td>Every kid needs a champion</td>\n",
       "      <td>Rita Pierson, a teacher for 40 years, once hea...</td>\n",
       "      <td>https://www.ted.com/talks/rita_pierson_every_k...</td>\n",
       "      <td>7.800000</td>\n",
       "      <td>2013-05-07</td>\n",
       "      <td>2013-05-03</td>\n",
       "      <td>1050</td>\n",
       "      <td>46</td>\n",
       "      <td>...</td>\n",
       "      <td>1297.0</td>\n",
       "      <td>458.0</td>\n",
       "      <td>159.0</td>\n",
       "      <td>5946.0</td>\n",
       "      <td>230.0</td>\n",
       "      <td>26.0</td>\n",
       "      <td>114.0</td>\n",
       "      <td>15.0</td>\n",
       "      <td>1137.0</td>\n",
       "      <td>23.0</td>\n",
       "    </tr>\n",
       "    <tr>\n",
       "      <td>1846</td>\n",
       "      <td>1846</td>\n",
       "      <td>Fred Swaniker: The leaders who ruined Africa, ...</td>\n",
       "      <td>The leaders who ruined Africa, and the generat...</td>\n",
       "      <td>Before he hit eighteen, Fred Swaniker had live...</td>\n",
       "      <td>https://www.ted.com/talks/fred_swaniker_the_le...</td>\n",
       "      <td>13.433333</td>\n",
       "      <td>2014-10-22</td>\n",
       "      <td>2014-10-21</td>\n",
       "      <td>2014</td>\n",
       "      <td>24</td>\n",
       "      <td>...</td>\n",
       "      <td>9.0</td>\n",
       "      <td>188.0</td>\n",
       "      <td>28.0</td>\n",
       "      <td>410.0</td>\n",
       "      <td>14.0</td>\n",
       "      <td>9.0</td>\n",
       "      <td>51.0</td>\n",
       "      <td>10.0</td>\n",
       "      <td>98.0</td>\n",
       "      <td>24.0</td>\n",
       "    </tr>\n",
       "  </tbody>\n",
       "</table>\n",
       "<p>10 rows × 35 columns</p>\n",
       "</div>"
      ],
      "text/plain": [
       "      talk_id                                               name  \\\n",
       "323       323     Jackie Tabick: The balancing act of compassion   \n",
       "324       324  Dayananda Saraswati: The profound journey of c...   \n",
       "325       325       James Forbes: Compassion at the dinner table   \n",
       "326       326  Feisal Abdul Rauf: Lose your ego, find your co...   \n",
       "327       327  Robert Thurman: Expanding your circle of compa...   \n",
       "328       328         Robert Wright: The evolution of compassion   \n",
       "614       614         Jamie Oliver: Teach every child about food   \n",
       "857       857   Ariel Garten: Know thyself, with a brain scanner   \n",
       "1493     1493           Rita Pierson: Every kid needs a champion   \n",
       "1846     1846  Fred Swaniker: The leaders who ruined Africa, ...   \n",
       "\n",
       "                                                  title  \\\n",
       "323                     The balancing act of compassion   \n",
       "324                  The profound journey of compassion   \n",
       "325                      Compassion at the dinner table   \n",
       "326                 Lose your ego, find your compassion   \n",
       "327                 Expanding your circle of compassion   \n",
       "328                         The evolution of compassion   \n",
       "614                        Teach every child about food   \n",
       "857                  Know thyself, with a brain scanner   \n",
       "1493                         Every kid needs a champion   \n",
       "1846  The leaders who ruined Africa, and the generat...   \n",
       "\n",
       "                                            description  \\\n",
       "323   While we all agree that compassion is a great ...   \n",
       "324   Swami Dayananda Saraswati unravels the paralle...   \n",
       "325   Join Rev. James Forbes at the dinner table of ...   \n",
       "326   Imam Faisal Abdul Rauf combines the teachings ...   \n",
       "327   It's hard to always show compassion -- even to...   \n",
       "328   Robert Wright uses evolutionary biology and ga...   \n",
       "614   Sharing powerful stories from his anti-obesity...   \n",
       "857   Imagine playing a video game controlled by you...   \n",
       "1493  Rita Pierson, a teacher for 40 years, once hea...   \n",
       "1846  Before he hit eighteen, Fred Swaniker had live...   \n",
       "\n",
       "                                                    url   duration  film_date  \\\n",
       "323           https://www.ted.com/talks/jackie_tabick\\n  15.766667 2009-10-01   \n",
       "324   https://www.ted.com/talks/swami_dayananda_sara...  16.900000 2009-10-01   \n",
       "325            https://www.ted.com/talks/james_forbes\\n  18.633333 2009-10-01   \n",
       "326   https://www.ted.com/talks/imam_feisal_abdul_ra...  16.783333 2009-10-14   \n",
       "327   https://www.ted.com/talks/robert_thurman_on_co...  18.116667 2009-10-01   \n",
       "328   https://www.ted.com/talks/robert_wright_the_ev...  16.933333 2009-10-14   \n",
       "614            https://www.ted.com/talks/jamie_oliver\\n  21.883333 2010-02-20   \n",
       "857   https://www.ted.com/talks/ariel_garten_know_th...  15.066667 2011-09-23   \n",
       "1493  https://www.ted.com/talks/rita_pierson_every_k...   7.800000 2013-05-07   \n",
       "1846  https://www.ted.com/talks/fred_swaniker_the_le...  13.433333 2014-10-22   \n",
       "\n",
       "     published_date  number_of_words  languages  ...   funny  informative  \\\n",
       "323      2008-10-31             1990         30  ...     0.0         11.0   \n",
       "324      2008-10-31             1238         38  ...    20.0         68.0   \n",
       "325      2008-10-31             2328         20  ...     6.0         12.0   \n",
       "326      2008-10-31             1882         47  ...     0.0         64.0   \n",
       "327      2008-10-31             3317         27  ...    18.0         23.0   \n",
       "328      2008-10-31             2754         21  ...     8.0         88.0   \n",
       "614      2010-02-11             3178         49  ...   359.0       2606.0   \n",
       "857      2011-01-26             2447         26  ...     1.0         95.0   \n",
       "1493     2013-05-03             1050         46  ...  1297.0        458.0   \n",
       "1846     2014-10-21             2014         24  ...     9.0        188.0   \n",
       "\n",
       "     ingenious inspiring  jaw-dropping  longwinded     ok obnoxious  \\\n",
       "323        3.0      45.0           2.0        30.0   14.0      13.0   \n",
       "324       38.0     369.0          30.0        23.0   21.0       4.0   \n",
       "325        3.0      73.0           1.0        15.0   13.0      12.0   \n",
       "326        8.0     274.0          12.0        35.0   16.0      24.0   \n",
       "327        6.0     148.0           8.0        20.0   26.0      12.0   \n",
       "328       11.0      57.0           4.0        32.0   27.0       7.0   \n",
       "614      297.0    4779.0        1413.0        99.0  249.0     109.0   \n",
       "857       60.0      94.0          31.0       106.0   84.0      44.0   \n",
       "1493     159.0    5946.0         230.0        26.0  114.0      15.0   \n",
       "1846      28.0     410.0          14.0         9.0   51.0      10.0   \n",
       "\n",
       "     persuasive unconvincing  \n",
       "323        21.0         20.0  \n",
       "324       105.0          9.0  \n",
       "325        15.0          6.0  \n",
       "326        56.0         40.0  \n",
       "327        35.0         11.0  \n",
       "328        64.0         20.0  \n",
       "614      3316.0        113.0  \n",
       "857        28.0        156.0  \n",
       "1493     1137.0         23.0  \n",
       "1846       98.0         24.0  \n",
       "\n",
       "[10 rows x 35 columns]"
      ]
     },
     "execution_count": 25,
     "metadata": {},
     "output_type": "execute_result"
    }
   ],
   "source": [
    "df[df.film_date > df.published_date]"
   ]
  },
  {
   "cell_type": "markdown",
   "metadata": {},
   "source": [
    "## Part B. Saving the processed dataframes"
   ]
  },
  {
   "cell_type": "code",
   "execution_count": 26,
   "metadata": {},
   "outputs": [],
   "source": [
    "df.to_csv('resources/ted_main.csv', index=False, header=True)\n",
    "edges.to_csv('resources/edges.tsv', index=False, header=True, sep='\\t')"
   ]
  },
  {
   "cell_type": "markdown",
   "metadata": {},
   "source": [
    "### Saving information about the speakers in a different file"
   ]
  },
  {
   "cell_type": "code",
   "execution_count": 27,
   "metadata": {},
   "outputs": [
    {
     "data": {
      "text/html": [
       "<div>\n",
       "<style scoped>\n",
       "    .dataframe tbody tr th:only-of-type {\n",
       "        vertical-align: middle;\n",
       "    }\n",
       "\n",
       "    .dataframe tbody tr th {\n",
       "        vertical-align: top;\n",
       "    }\n",
       "\n",
       "    .dataframe thead th {\n",
       "        text-align: right;\n",
       "    }\n",
       "</style>\n",
       "<table border=\"1\" class=\"dataframe\">\n",
       "  <thead>\n",
       "    <tr style=\"text-align: right;\">\n",
       "      <th></th>\n",
       "      <th>speaker</th>\n",
       "      <th>speaker_occupation</th>\n",
       "      <th>film_date</th>\n",
       "      <th>avg_views</th>\n",
       "      <th>avg_speed_of_speech</th>\n",
       "      <th>nof_talks</th>\n",
       "      <th>talks</th>\n",
       "      <th>total_views</th>\n",
       "      <th>speaker_id</th>\n",
       "    </tr>\n",
       "  </thead>\n",
       "  <tbody>\n",
       "    <tr>\n",
       "      <td>0</td>\n",
       "      <td>OK Go</td>\n",
       "      <td>Band</td>\n",
       "      <td>2017</td>\n",
       "      <td>1493866.000</td>\n",
       "      <td>129.440758</td>\n",
       "      <td>1</td>\n",
       "      <td>[2460]</td>\n",
       "      <td>1493866</td>\n",
       "      <td>0</td>\n",
       "    </tr>\n",
       "    <tr>\n",
       "      <td>1</td>\n",
       "      <td>Rodrigo y Gabriela</td>\n",
       "      <td>Guitar duo</td>\n",
       "      <td>2015</td>\n",
       "      <td>1138566.000</td>\n",
       "      <td>0.933852</td>\n",
       "      <td>1</td>\n",
       "      <td>[2382]</td>\n",
       "      <td>1138566</td>\n",
       "      <td>1</td>\n",
       "    </tr>\n",
       "    <tr>\n",
       "      <td>2</td>\n",
       "      <td>Silk Road Ensemble</td>\n",
       "      <td>Musical explorers</td>\n",
       "      <td>2016</td>\n",
       "      <td>640734.000</td>\n",
       "      <td>0.000000</td>\n",
       "      <td>1</td>\n",
       "      <td>[2407]</td>\n",
       "      <td>640734</td>\n",
       "      <td>2</td>\n",
       "    </tr>\n",
       "    <tr>\n",
       "      <td>3</td>\n",
       "      <td>Sofi Tukker</td>\n",
       "      <td>Band</td>\n",
       "      <td>2017</td>\n",
       "      <td>815611.000</td>\n",
       "      <td>75.000000</td>\n",
       "      <td>1</td>\n",
       "      <td>[2476]</td>\n",
       "      <td>815611</td>\n",
       "      <td>3</td>\n",
       "    </tr>\n",
       "    <tr>\n",
       "      <td>4</td>\n",
       "      <td>AJ Jacobs</td>\n",
       "      <td>Author</td>\n",
       "      <td>2007</td>\n",
       "      <td>1622792.667</td>\n",
       "      <td>146.010577</td>\n",
       "      <td>3</td>\n",
       "      <td>[261, 1100, 1766]</td>\n",
       "      <td>4868378</td>\n",
       "      <td>4</td>\n",
       "    </tr>\n",
       "  </tbody>\n",
       "</table>\n",
       "</div>"
      ],
      "text/plain": [
       "               speaker speaker_occupation  film_date    avg_views  \\\n",
       "0                OK Go               Band       2017  1493866.000   \n",
       "1   Rodrigo y Gabriela         Guitar duo       2015  1138566.000   \n",
       "2   Silk Road Ensemble  Musical explorers       2016   640734.000   \n",
       "3          Sofi Tukker               Band       2017   815611.000   \n",
       "4            AJ Jacobs             Author       2007  1622792.667   \n",
       "\n",
       "   avg_speed_of_speech  nof_talks              talks  total_views  speaker_id  \n",
       "0           129.440758          1             [2460]      1493866           0  \n",
       "1             0.933852          1             [2382]      1138566           1  \n",
       "2             0.000000          1             [2407]       640734           2  \n",
       "3            75.000000          1             [2476]       815611           3  \n",
       "4           146.010577          3  [261, 1100, 1766]      4868378           4  "
      ]
     },
     "execution_count": 27,
     "metadata": {},
     "output_type": "execute_result"
    }
   ],
   "source": [
    "speaker = df[['main_speaker', 'speaker_occupation', 'title', 'views', 'talk_id', 'speed_of_speech', 'film_date']]\n",
    "speaker = speaker.groupby(['main_speaker', 'speaker_occupation'], as_index=False).agg({\n",
    "    'film_date': 'min',\n",
    "    'views': 'sum',\n",
    "    'speed_of_speech': 'mean',\n",
    "    'title': 'count',\n",
    "    'talk_id': lambda x: x.tolist(),\n",
    "})\n",
    "speaker['total_views'] = speaker['views']\n",
    "speaker['views'] = speaker['views'] / speaker['title']\n",
    "speaker['views'] = speaker['views'].apply(lambda x: '%.3f' % x).values.tolist()\n",
    "speaker['film_date'] = speaker['film_date'].apply(lambda x: x.year)\n",
    "speaker.rename(columns={\n",
    "    'main_speaker': 'speaker',\n",
    "    'views': 'avg_views',\n",
    "    'speed_of_speech': 'avg_speed_of_speech',\n",
    "    'title': 'nof_talks',\n",
    "    'talk_id': 'talks'}, inplace=True)\n",
    "speaker['speaker_id'] = speaker.index\n",
    "speaker.to_csv('resources/speaker.csv', index=False, header=True)\n",
    "speaker.head(5)"
   ]
  },
  {
   "cell_type": "code",
   "execution_count": 28,
   "metadata": {},
   "outputs": [
    {
     "data": {
      "text/plain": [
       "2047    1\n",
       "1338    1\n",
       "1310    1\n",
       "1312    1\n",
       "1314    1\n",
       "       ..\n",
       "619     1\n",
       "621     1\n",
       "623     1\n",
       "625     1\n",
       "0       1\n",
       "Name: speaker_id, Length: 2159, dtype: int64"
      ]
     },
     "execution_count": 28,
     "metadata": {},
     "output_type": "execute_result"
    }
   ],
   "source": [
    "speaker = pd.read_csv('resources/speaker.csv')\n",
    "speaker['speaker_id'].value_counts()"
   ]
  },
  {
   "cell_type": "markdown",
   "metadata": {},
   "source": [
    "### Saving information about the events"
   ]
  },
  {
   "cell_type": "code",
   "execution_count": 29,
   "metadata": {},
   "outputs": [
    {
     "data": {
      "text/html": [
       "<div>\n",
       "<style scoped>\n",
       "    .dataframe tbody tr th:only-of-type {\n",
       "        vertical-align: middle;\n",
       "    }\n",
       "\n",
       "    .dataframe tbody tr th {\n",
       "        vertical-align: top;\n",
       "    }\n",
       "\n",
       "    .dataframe thead th {\n",
       "        text-align: right;\n",
       "    }\n",
       "</style>\n",
       "<table border=\"1\" class=\"dataframe\">\n",
       "  <thead>\n",
       "    <tr style=\"text-align: right;\">\n",
       "      <th></th>\n",
       "      <th>event</th>\n",
       "      <th>event_type</th>\n",
       "      <th>avg_views</th>\n",
       "      <th>avg_speed_of_speech</th>\n",
       "      <th>avg_duration</th>\n",
       "      <th>film_date</th>\n",
       "      <th>nof_talks</th>\n",
       "      <th>talks</th>\n",
       "      <th>event_id</th>\n",
       "    </tr>\n",
       "  </thead>\n",
       "  <tbody>\n",
       "    <tr>\n",
       "      <td>0</td>\n",
       "      <td>AORN Congress</td>\n",
       "      <td>external</td>\n",
       "      <td>149818.0</td>\n",
       "      <td>0.000000</td>\n",
       "      <td>8.500000</td>\n",
       "      <td>2009-03-14</td>\n",
       "      <td>1</td>\n",
       "      <td>[590]</td>\n",
       "      <td>0</td>\n",
       "    </tr>\n",
       "    <tr>\n",
       "      <td>1</td>\n",
       "      <td>Arbejdsglaede Live</td>\n",
       "      <td>external</td>\n",
       "      <td>971594.0</td>\n",
       "      <td>166.208791</td>\n",
       "      <td>18.200000</td>\n",
       "      <td>2009-05-05</td>\n",
       "      <td>1</td>\n",
       "      <td>[632]</td>\n",
       "      <td>1</td>\n",
       "    </tr>\n",
       "    <tr>\n",
       "      <td>2</td>\n",
       "      <td>BBC TV</td>\n",
       "      <td>external</td>\n",
       "      <td>521974.0</td>\n",
       "      <td>0.000000</td>\n",
       "      <td>65.916667</td>\n",
       "      <td>1983-07-08</td>\n",
       "      <td>1</td>\n",
       "      <td>[629]</td>\n",
       "      <td>2</td>\n",
       "    </tr>\n",
       "    <tr>\n",
       "      <td>3</td>\n",
       "      <td>Bowery Poetry Club</td>\n",
       "      <td>external</td>\n",
       "      <td>676741.0</td>\n",
       "      <td>0.000000</td>\n",
       "      <td>3.033333</td>\n",
       "      <td>2005-11-12</td>\n",
       "      <td>1</td>\n",
       "      <td>[601]</td>\n",
       "      <td>3</td>\n",
       "    </tr>\n",
       "    <tr>\n",
       "      <td>4</td>\n",
       "      <td>Business Innovation Factory</td>\n",
       "      <td>external</td>\n",
       "      <td>304086.0</td>\n",
       "      <td>110.972482</td>\n",
       "      <td>18.427778</td>\n",
       "      <td>2009-10-07</td>\n",
       "      <td>3</td>\n",
       "      <td>[581, 762, 789]</td>\n",
       "      <td>4</td>\n",
       "    </tr>\n",
       "  </tbody>\n",
       "</table>\n",
       "</div>"
      ],
      "text/plain": [
       "                         event event_type  avg_views  avg_speed_of_speech  \\\n",
       "0                AORN Congress   external   149818.0             0.000000   \n",
       "1           Arbejdsglaede Live   external   971594.0           166.208791   \n",
       "2                       BBC TV   external   521974.0             0.000000   \n",
       "3           Bowery Poetry Club   external   676741.0             0.000000   \n",
       "4  Business Innovation Factory   external   304086.0           110.972482   \n",
       "\n",
       "   avg_duration  film_date  nof_talks            talks  event_id  \n",
       "0      8.500000 2009-03-14          1            [590]         0  \n",
       "1     18.200000 2009-05-05          1            [632]         1  \n",
       "2     65.916667 1983-07-08          1            [629]         2  \n",
       "3      3.033333 2005-11-12          1            [601]         3  \n",
       "4     18.427778 2009-10-07          3  [581, 762, 789]         4  "
      ]
     },
     "execution_count": 29,
     "metadata": {},
     "output_type": "execute_result"
    }
   ],
   "source": [
    "events = df[['event', 'event_type', 'title', 'views', 'talk_id', 'film_date', 'speed_of_speech', 'duration']]\n",
    "events = events.groupby(['event', 'event_type'], as_index=False).agg({\n",
    "    'views': 'mean',\n",
    "    'speed_of_speech': 'mean',\n",
    "    'duration': 'mean',\n",
    "    'film_date': 'min',\n",
    "    'title': 'count',\n",
    "    'talk_id': lambda x: x.tolist()\n",
    "})\n",
    "events.rename(columns={'event': 'event', 'title': 'nof_talks', 'views': 'avg_views', 'duration': 'avg_duration',\n",
    "                       'speed_of_speech': 'avg_speed_of_speech', 'talk_id': 'talks'}, inplace=True)\n",
    "events['event_id'] = events.index\n",
    "events.to_csv('resources/events.csv', index=False, header=True)\n",
    "events.head(5)"
   ]
  },
  {
   "cell_type": "markdown",
   "metadata": {},
   "source": [
    "## Part C. Exploratory data analysis"
   ]
  },
  {
   "cell_type": "markdown",
   "metadata": {},
   "source": [
    "### main_speaker\n",
    "Questions:\n",
    "<ol>\n",
    "    <li>How many talks does each speaker do?</li>\n",
    "    <li>Which speakers do the most talks? (first 10)</li>\n",
    "</ol>"
   ]
  },
  {
   "cell_type": "code",
   "execution_count": 30,
   "metadata": {},
   "outputs": [
    {
     "data": {
      "image/png": "[encoded data removed]",
      "text/plain": [
       "<Figure size 432x288 with 1 Axes>"
      ]
     },
     "metadata": {
      "needs_background": "light"
     },
     "output_type": "display_data"
    }
   ],
   "source": [
    "df['main_speaker'].value_counts().sort_values(ascending=False)[:10].plot.bar()\n",
    "plt.title('What are the most popular 30 tags?')\n",
    "plt.xticks(rotation=45, horizontalalignment='right')\n",
    "plt.show()"
   ]
  },
  {
   "cell_type": "markdown",
   "metadata": {},
   "source": [
    "### num_speaker\n",
    "Questions:\n",
    "<ol>\n",
    "    <li>What's the distribution of number of speakers? Look at percentages.</li>\n",
    "</ol>"
   ]
  },
  {
   "cell_type": "code",
   "execution_count": 31,
   "metadata": {},
   "outputs": [
    {
     "data": {
      "image/png": "[encoded data removed]",
      "text/plain": [
       "<Figure size 432x288 with 1 Axes>"
      ]
     },
     "metadata": {
      "needs_background": "light"
     },
     "output_type": "display_data"
    },
    {
     "name": "stdout",
     "output_type": "stream",
     "text": [
      "Percentages:\n"
     ]
    },
    {
     "data": {
      "text/plain": [
       "1    97.725490\n",
       "2     1.921569\n",
       "3     0.196078\n",
       "4     0.117647\n",
       "5     0.039216\n",
       "Name: num_speaker, dtype: float64"
      ]
     },
     "execution_count": 31,
     "metadata": {},
     "output_type": "execute_result"
    }
   ],
   "source": [
    "df['num_speaker'].hist(grid=False, bins=range(1, 8))\n",
    "plt.yscale('log')\n",
    "plt.title('Histogram of num_speaker, log-scale')\n",
    "plt.show()\n",
    "\n",
    "print('Percentages:')\n",
    "df['num_speaker'].value_counts(normalize=True)*100"
   ]
  },
  {
   "cell_type": "markdown",
   "metadata": {},
   "source": [
    "### duration\n",
    "Questions:\n",
    "<ol>\n",
    "    <li>What's the distribution of number of speakers?</li>\n",
    "    <li>Which are the 10 longest talks?</li>\n",
    "    <li>Which are the 10 shortest talks?</li>\n",
    "    <li>Average duration</li>\n",
    "</ol>"
   ]
  },
  {
   "cell_type": "code",
   "execution_count": 32,
   "metadata": {},
   "outputs": [
    {
     "data": {
      "image/png": "[encoded data removed]",
      "text/plain": [
       "<Figure size 432x288 with 1 Axes>"
      ]
     },
     "metadata": {
      "needs_background": "light"
     },
     "output_type": "display_data"
    },
    {
     "name": "stdout",
     "output_type": "stream",
     "text": [
      "Average duration: 13.775169934640537\n"
     ]
    }
   ],
   "source": [
    "fig, ax = plt.subplots(1, 1)\n",
    "\n",
    "ax.hist(df['duration'])\n",
    "ax.set_yscale('log')\n",
    "ax.set_title('Histogram of duration, log_scale')\n",
    "plt.show()\n",
    "\n",
    "print('Average duration: ' + str(df['duration'].mean()))"
   ]
  },
  {
   "cell_type": "code",
   "execution_count": 33,
   "metadata": {},
   "outputs": [
    {
     "data": {
      "image/png": "[encoded data removed]",
      "text/plain": [
       "<Figure size 432x288 with 1 Axes>"
      ]
     },
     "metadata": {
      "needs_background": "light"
     },
     "output_type": "display_data"
    },
    {
     "name": "stdout",
     "output_type": "stream",
     "text": [
      "Average speed_of_speech: 142.15111216160395\n"
     ]
    }
   ],
   "source": [
    "\n",
    "fig, ax = plt.subplots(1, 1)\n",
    "\n",
    "ax.hist(df['speed_of_speech'])\n",
    "ax.set_title('Histogram of speed of speech')\n",
    "plt.show()\n",
    "\n",
    "print('Average speed_of_speech: ' + str(df['speed_of_speech'].mean()))"
   ]
  },
  {
   "cell_type": "code",
   "execution_count": 34,
   "metadata": {},
   "outputs": [
    {
     "data": {
      "image/png": "[encoded data removed]",
      "text/plain": [
       "<Figure size 432x864 with 2 Axes>"
      ]
     },
     "metadata": {
      "needs_background": "light"
     },
     "output_type": "display_data"
    }
   ],
   "source": [
    "fig, ax = plt.subplots(2, 1, figsize=(6, 12))\n",
    "\n",
    "bar_plot0 = df[['title', 'duration']].sort_values(by='duration', ascending=False)[:10]\n",
    "bar_plot0.plot.barh(x='title', y='duration', ax=ax[0])\n",
    "\n",
    "bar_plot1 = df[['title', 'duration']].sort_values(by='duration')[:10]\n",
    "bar_plot1.plot.barh(x='title', y='duration', ax=ax[1])\n",
    "plt.show()"
   ]
  },
  {
   "cell_type": "markdown",
   "metadata": {},
   "source": [
    "### event\n",
    "Questions:\n",
    "<ol>\n",
    "    <li>How many events do we have?</li>\n",
    "    <li>How many TEDx events are?</li>\n",
    "    <li>Which are the first 10 events based on number of talks?</li>\n",
    "    <li>How many events have only one talk?</li>\n",
    "</ol>"
   ]
  },
  {
   "cell_type": "code",
   "execution_count": 35,
   "metadata": {},
   "outputs": [
    {
     "name": "stdout",
     "output_type": "stream",
     "text": [
      "Number of events: 355\n",
      "Number of TEDx events: 205\n"
     ]
    },
    {
     "data": {
      "image/png": "[encoded data removed]",
      "text/plain": [
       "<Figure size 432x288 with 1 Axes>"
      ]
     },
     "metadata": {
      "needs_background": "light"
     },
     "output_type": "display_data"
    },
    {
     "name": "stdout",
     "output_type": "stream",
     "text": [
      "Number of TEDx talks: 471\n"
     ]
    }
   ],
   "source": [
    "event_bar_plot = df['event'].value_counts().sort_values(ascending=False)[:10]\n",
    "event_bar_plot.plot.bar(x = 'event', y = 'count')\n",
    "plt.xticks(rotation=45, horizontalalignment='right')\n",
    "\n",
    "print('Number of events: ' + str(df['event'].nunique()))\n",
    "print('Number of TEDx events: ' + str(len(df[df['event'].str.lower().str.find('tedx')!=-1]['event'].unique())))\n",
    "\n",
    "plt.show()\n",
    "print('Number of TEDx talks: ' + str(len(df[df['event'].str.lower().str.find('tedx')!=-1]['event'])))"
   ]
  },
  {
   "cell_type": "code",
   "execution_count": 36,
   "metadata": {},
   "outputs": [
    {
     "name": "stdout",
     "output_type": "stream",
     "text": [
      "Number of events with only one talk 30\n"
     ]
    },
    {
     "data": {
      "image/png": "[encoded data removed]",
      "text/plain": [
       "<Figure size 1440x720 with 1 Axes>"
      ]
     },
     "metadata": {
      "needs_background": "light"
     },
     "output_type": "display_data"
    }
   ],
   "source": [
    "event_bar_plot = df['event'].value_counts().sort_values(ascending=False)[:10]\n",
    "event_bar_plot.plot.bar(x = 'event', y = 'count', figsize=(20, 10))\n",
    "\n",
    "print('Number of events with only one talk ' + str((df['event'].value_counts()==3).sum()))"
   ]
  },
  {
   "cell_type": "markdown",
   "metadata": {},
   "source": [
    "### languages\n",
    "Sadly, this just tells us the number of languages the talk is available in, and not a list of languages.</br>\n",
    "Questions:\n",
    "<ol>\n",
    "    <li>What's the distribution of languages?</li>\n",
    "</ol>"
   ]
  },
  {
   "cell_type": "code",
   "execution_count": 37,
   "metadata": {},
   "outputs": [
    {
     "data": {
      "text/plain": [
       "<matplotlib.axes._subplots.AxesSubplot at 0x7f76e4850290>"
      ]
     },
     "execution_count": 37,
     "metadata": {},
     "output_type": "execute_result"
    },
    {
     "data": {
      "image/png": "[encoded data removed]",
      "text/plain": [
       "<Figure size 432x288 with 1 Axes>"
      ]
     },
     "metadata": {
      "needs_background": "light"
     },
     "output_type": "display_data"
    }
   ],
   "source": [
    "df['languages'].hist(grid=False)"
   ]
  },
  {
   "cell_type": "markdown",
   "metadata": {},
   "source": [
    "### film_date and published_date\n",
    "Will analyze the years of the film and published dates.</br>\n",
    "Questions:\n",
    "<ol>\n",
    "    <li>How many ted talks are each year?</li>\n",
    "    <li>Difference between the date a talk was filmed and the date it was published</li>\n",
    "    <li>Show the growth over the years</li>\n",
    "    <li>Oldest talk</li>\n",
    "</ol>"
   ]
  },
  {
   "cell_type": "code",
   "execution_count": 38,
   "metadata": {},
   "outputs": [
    {
     "data": {
      "image/png": "[encoded data removed]",
      "text/plain": [
       "<Figure size 432x864 with 3 Axes>"
      ]
     },
     "metadata": {
      "needs_background": "light"
     },
     "output_type": "display_data"
    }
   ],
   "source": [
    "fig, ax = plt.subplots(3, 1, figsize=(6,12))\n",
    "ax[0].hist(df['film_date'].dt.year)\n",
    "ax[0].set_yscale('log')\n",
    "ax[0].set_title('film_date - logarithmic scale')\n",
    "ax[1].hist(df['published_date'].dt.year)\n",
    "ax[1].set_title('publshed_date')\n",
    "ax[2].hist(( df['published_date'] - df['film_date']).astype(int))\n",
    "ax[2].set_title('difference between published_date and film_date - log scale')\n",
    "ax[2].set_yscale('log')\n",
    "plt.show()"
   ]
  },
  {
   "cell_type": "code",
   "execution_count": 39,
   "metadata": {},
   "outputs": [
    {
     "data": {
      "text/plain": [
       "talk_id                                                             686\n",
       "name                               Viktor Frankl: Why believe in others\n",
       "title                                             Why believe in others\n",
       "description           In this rare clip from 1972, legendary psychia...\n",
       "url                   https://www.ted.com/talks/viktor_frankl_youth_...\n",
       "duration                                                        4.36667\n",
       "film_date                                           1972-05-14 00:00:00\n",
       "published_date                                      2010-05-14 00:00:00\n",
       "number_of_words                                                       0\n",
       "languages                                                             0\n",
       "comments                                                            373\n",
       "views                                                           1028630\n",
       "main_speaker                                              Viktor Frankl\n",
       "speaker_occupation                    Psychiatrist, neurologist, author\n",
       "num_speaker                                                           1\n",
       "speed_of_speech                                                       0\n",
       "event                                               Toronto Youth Corps\n",
       "event_type                                                     external\n",
       "related_talks                                                        []\n",
       "tags                           [humanity, mind, peace, psychology, war]\n",
       "ratings               [{'id': 10, 'name': 'Inspiring', 'count': 1673...\n",
       "beautiful                                                           346\n",
       "confusing                                                            13\n",
       "courageous                                                          178\n",
       "fascinating                                                         303\n",
       "funny                                                               264\n",
       "informative                                                         253\n",
       "ingenious                                                           182\n",
       "inspiring                                                          1673\n",
       "jaw-dropping                                                        124\n",
       "longwinded                                                            8\n",
       "ok                                                                   59\n",
       "obnoxious                                                            13\n",
       "persuasive                                                          455\n",
       "unconvincing                                                         12\n",
       "Name: 686, dtype: object"
      ]
     },
     "execution_count": 39,
     "metadata": {},
     "output_type": "execute_result"
    }
   ],
   "source": [
    "# Oldest talk\n",
    "df.iloc[df['film_date'].dt.year.idxmin()]"
   ]
  },
  {
   "cell_type": "markdown",
   "metadata": {},
   "source": [
    "### tags\n",
    "Questions:\n",
    "<ol>\n",
    "    <li>How many talks belong to each tag?</li>\n",
    "    <li>Most popular 30 tags</li>\n",
    "</ol>"
   ]
  },
  {
   "cell_type": "code",
   "execution_count": 40,
   "metadata": {},
   "outputs": [
    {
     "data": {
      "image/png": "[encoded data removed]",
      "text/plain": [
       "<Figure size 432x288 with 1 Axes>"
      ]
     },
     "metadata": {
      "needs_background": "light"
     },
     "output_type": "display_data"
    }
   ],
   "source": [
    "tags_count = pd.Series([y for x in df['tags'] for y in x]).value_counts()\n",
    "tags_count.hist(grid=False)\n",
    "plt.show()"
   ]
  },
  {
   "cell_type": "code",
   "execution_count": 41,
   "metadata": {},
   "outputs": [
    {
     "name": "stdout",
     "output_type": "stream",
     "text": [
      "Total number of tags: 416\n"
     ]
    }
   ],
   "source": [
    "print('Total number of tags: ' + str(tags_count.shape[0]))"
   ]
  },
  {
   "cell_type": "code",
   "execution_count": 42,
   "metadata": {},
   "outputs": [
    {
     "data": {
      "image/png": "[encoded data removed]",
      "text/plain": [
       "<Figure size 1080x504 with 1 Axes>"
      ]
     },
     "metadata": {
      "needs_background": "light"
     },
     "output_type": "display_data"
    }
   ],
   "source": [
    "tags_count.sort_values(ascending=False)[:30].plot.bar(figsize=(15,7))\n",
    "plt.title('What are the most popular 30 tags?')\n",
    "plt.xticks(rotation=45, horizontalalignment='right')\n",
    "plt.show()"
   ]
  },
  {
   "cell_type": "markdown",
   "metadata": {},
   "source": [
    "### views\n",
    "Questions:\n",
    "<ol>\n",
    "    <li>What is the distribution of views?</li>\n",
    "    <li>First 10 talks in terms of number of views</li>\n",
    "</ol>"
   ]
  },
  {
   "cell_type": "code",
   "execution_count": 43,
   "metadata": {},
   "outputs": [
    {
     "data": {
      "image/png": "[encoded data removed]",
      "text/plain": [
       "<Figure size 432x288 with 1 Axes>"
      ]
     },
     "metadata": {
      "needs_background": "light"
     },
     "output_type": "display_data"
    }
   ],
   "source": [
    "df['views'].hist()\n",
    "plt.yscale('log')\n",
    "plt.title('Histogram of views - log scale')\n",
    "plt.show()"
   ]
  },
  {
   "cell_type": "code",
   "execution_count": 44,
   "metadata": {},
   "outputs": [
    {
     "data": {
      "image/png": "[encoded data removed]",
      "text/plain": [
       "<Figure size 432x864 with 1 Axes>"
      ]
     },
     "metadata": {
      "needs_background": "light"
     },
     "output_type": "display_data"
    },
    {
     "name": "stdout",
     "output_type": "stream",
     "text": [
      "Total number of views: 4330658578\n"
     ]
    }
   ],
   "source": [
    "fig, ax = plt.subplots(1, 1, figsize=(6, 12))\n",
    "\n",
    "bar_plot0 = df[['title', 'views']].sort_values(by='views', ascending=False)[:10]\n",
    "bar_plot0.plot.barh(x='title', y='views', ax=ax)\n",
    "\n",
    "plt.show()\n",
    "print('Total number of views: ' + str(df['views'].sum()))"
   ]
  },
  {
   "cell_type": "markdown",
   "metadata": {},
   "source": [
    "### comments\n",
    "Questions:\n",
    "<ol>\n",
    "    <li>What is the distribution of comments?</li>\n",
    "    <li>Which talks have the most comments? First 10</li>\n",
    "</ol>"
   ]
  },
  {
   "cell_type": "code",
   "execution_count": 45,
   "metadata": {},
   "outputs": [
    {
     "data": {
      "image/png": "[encoded data removed]",
      "text/plain": [
       "<Figure size 432x288 with 1 Axes>"
      ]
     },
     "metadata": {
      "needs_background": "light"
     },
     "output_type": "display_data"
    }
   ],
   "source": [
    "df['comments'].hist()\n",
    "plt.yscale('log')\n",
    "plt.title('Histogram of views - log scale')\n",
    "plt.show()"
   ]
  },
  {
   "cell_type": "code",
   "execution_count": 46,
   "metadata": {},
   "outputs": [
    {
     "data": {
      "image/png": "[encoded data removed]",
      "text/plain": [
       "<Figure size 432x864 with 1 Axes>"
      ]
     },
     "metadata": {
      "needs_background": "light"
     },
     "output_type": "display_data"
    }
   ],
   "source": [
    "fig, ax = plt.subplots(1, 1, figsize=(6, 12))\n",
    "\n",
    "bar_plot0 = df[['title', 'comments']].sort_values(by='comments', ascending=False)[:10]\n",
    "bar_plot0.plot.barh(x='title', y='comments', ax=ax)\n",
    "\n",
    "plt.show()"
   ]
  },
  {
   "cell_type": "markdown",
   "metadata": {},
   "source": [
    "### ratings\n",
    "Questions:\n",
    "<ol>\n",
    "    <li>What is the distribution of ratings? Count for each tag how many talks have it at least once.</li>\n",
    "    <li>For each talk take the rating with the most counts.</li>\n",
    "</ol>"
   ]
  },
  {
   "cell_type": "code",
   "execution_count": 47,
   "metadata": {},
   "outputs": [
    {
     "data": {
      "image/png": "[encoded data removed]",
      "text/plain": [
       "<Figure size 1800x576 with 1 Axes>"
      ]
     },
     "metadata": {
      "needs_background": "light"
     },
     "output_type": "display_data"
    }
   ],
   "source": [
    "ratings_counts = {}\n",
    "\n",
    "for name in ratings_name:\n",
    "    ratings_counts[name] = df[df[name]>1].shape[0]\n",
    "    \n",
    "plt.figure(figsize=(25,8))\n",
    "plt.rcParams.update({'font.size': 12})\n",
    "plt.bar(range(len(ratings_counts)), list(ratings_counts.values()), align='center')\n",
    "plt.xticks(range(len(ratings_counts)), list(ratings_counts.keys()))\n",
    "plt.ylim(2200, 2600)\n",
    "plt.show()"
   ]
  },
  {
   "cell_type": "code",
   "execution_count": 48,
   "metadata": {},
   "outputs": [
    {
     "data": {
      "text/plain": [
       "talk_id                        int64\n",
       "name                          object\n",
       "title                         object\n",
       "description                   object\n",
       "url                           object\n",
       "duration                     float64\n",
       "film_date             datetime64[ns]\n",
       "published_date        datetime64[ns]\n",
       "number_of_words                int64\n",
       "languages                      int64\n",
       "comments                       int64\n",
       "views                          int64\n",
       "main_speaker                  object\n",
       "speaker_occupation            object\n",
       "num_speaker                    int64\n",
       "speed_of_speech              float64\n",
       "event                         object\n",
       "event_type                    object\n",
       "related_talks                 object\n",
       "tags                          object\n",
       "ratings                       object\n",
       "beautiful                    float64\n",
       "confusing                    float64\n",
       "courageous                   float64\n",
       "fascinating                  float64\n",
       "funny                        float64\n",
       "informative                  float64\n",
       "ingenious                    float64\n",
       "inspiring                    float64\n",
       "jaw-dropping                 float64\n",
       "longwinded                   float64\n",
       "ok                           float64\n",
       "obnoxious                    float64\n",
       "persuasive                   float64\n",
       "unconvincing                 float64\n",
       "dtype: object"
      ]
     },
     "execution_count": 48,
     "metadata": {},
     "output_type": "execute_result"
    }
   ],
   "source": [
    "df.dtypes"
   ]
  },
  {
   "cell_type": "code",
   "execution_count": 49,
   "metadata": {},
   "outputs": [
    {
     "data": {
      "image/png": "[encoded data removed]",
      "text/plain": [
       "<Figure size 1800x576 with 1 Axes>"
      ]
     },
     "metadata": {
      "needs_background": "light"
     },
     "output_type": "display_data"
    }
   ],
   "source": [
    "overall_rating = {\n",
    "    'talk_name': [],\n",
    "    'best_rating': []\n",
    "}\n",
    "for index, talk in df.iterrows():\n",
    "    overall_rating['talk_name'].append(talk['name'])\n",
    "    best_rating = talk[ratings_name].astype(float)\n",
    "    overall_rating['best_rating'].append(best_rating.idxmax())\n",
    "\n",
    "plt.figure(figsize=(25,8))\n",
    "overall_rating = pd.DataFrame.from_dict(overall_rating)\n",
    "overall_rating['best_rating'].value_counts().plot(kind='bar', rot=0)\n",
    "plt.show()"
   ]
  },
  {
   "cell_type": "markdown",
   "metadata": {},
   "source": [
    "# Part D Experimental stuff"
   ]
  },
  {
   "cell_type": "markdown",
   "metadata": {},
   "source": [
    "### Sentiment analysis on transcripts"
   ]
  },
  {
   "cell_type": "code",
   "execution_count": 50,
   "metadata": {},
   "outputs": [],
   "source": [
    "## WITH MOVIE SAMPLES\n",
    "##def extract_features(word_list):\n",
    "##  return dict([(word, True) for word in word_list])\n",
    "##\n",
    "#### WITH MOVIE REVIEWS\n",
    "##positive_fileids = movie_reviews.fileids('pos')\n",
    "##negative_fileids = movie_reviews.fileids('neg')\n",
    "##\n",
    "##features_positive = [(extract_features(movie_reviews.words(fileids=[f])), \n",
    "##           'Positive') for f in positive_fileids]\n",
    "##features_negative = [(extract_features(movie_reviews.words(fileids=[f])), \n",
    "##           'Negative') for f in negative_fileids]\n",
    "##\n",
    "##threshold_factor = 0.8\n",
    "##threshold_positive = int(threshold_factor * len(features_positive))\n",
    "##threshold_negative = int(threshold_factor * len(features_negative))\n",
    "##\n",
    "##\n",
    "##features_train = features_positive[:threshold_positive] + features_negative[:threshold_negative]\n",
    "##features_test = features_positive[threshold_positive:] + features_negative[threshold_negative:]  \n",
    "##print( \"\\nNumber of training datapoints:\", len(features_train))\n",
    "##print( \"Number of test datapoints:\", len(features_test))\n",
    "##\n",
    "##\n",
    "##classifier = NaiveBayesClassifier.train(features_train)\n",
    "##\n",
    "##print(\"\\nTop 10 most informative words:\")\n",
    "##for item in classifier.most_informative_features()[:10]:\n",
    "##   print(item[0])\n",
    "##    \n",
    "##input_reviews = df.transcript\n"
   ]
  },
  {
   "cell_type": "code",
   "execution_count": 51,
   "metadata": {},
   "outputs": [],
   "source": [
    "## WITH TWITTER SAMPLES\n",
    "##def remove_noise(tweet_tokens, stop_words = ()):\n",
    "##\n",
    "##    cleaned_tokens = []\n",
    "##    for token, tag in pos_tag(tweet_tokens):\n",
    "##        #token = re.sub('http[s]?://(?:[a-zA-Z]|[0-9]|[$-_@.&+#]|[!*\\(\\),]|'\\\n",
    "##        #               '(?:%[0-9a-fA-F][0-9a-fA-F]))+','', token)\n",
    "##        #token = re.sub(\"(@[A-Za-z0-9_]+)\",\"\", token)\n",
    "##\n",
    "##        if tag.startswith(\"NN\"):\n",
    "##            pos = 'n'\n",
    "##        elif tag.startswith('VB'):\n",
    "##            pos = 'v'\n",
    "##        else:\n",
    "##            pos = 'a'\n",
    "##\n",
    "##        lemmatizer = WordNetLemmatizer()\n",
    "##        token = lemmatizer.lemmatize(token, pos)\n",
    "##\n",
    "##        if len(token) > 0 and token not in string.punctuation and token.lower() not in stop_words:\n",
    "##            cleaned_tokens.append(token.lower())\n",
    "##    return cleaned_tokens\n",
    "##\n",
    "##def get_all_words(cleaned_tokens_list):\n",
    "##    for tokens in cleaned_tokens_list:\n",
    "##        for token in tokens:\n",
    "##            yield token\n",
    "##\n",
    "##def get_tweets_for_model(cleaned_tokens_list):\n",
    "##    for tweet_tokens in cleaned_tokens_list:\n",
    "##        yield dict([token, True] for token in tweet_tokens)\n",
    "##        \n",
    "##        \n",
    "##        \n",
    "##\n",
    "##positive_tweets = twitter_samples.strings('positive_tweets.json')\n",
    "##negative_tweets = twitter_samples.strings('negative_tweets.json')\n",
    "##text = twitter_samples.strings('tweets.20150430-223406.json')\n",
    "##tweet_tokens = twitter_samples.tokenized('positive_tweets.json')[0]\n",
    "##\n",
    "##stop_words = stopwords.words('english')\n",
    "##\n",
    "##positive_tweet_tokens = twitter_samples.tokenized('positive_tweets.json')\n",
    "##negative_tweet_tokens = twitter_samples.tokenized('negative_tweets.json')\n",
    "##\n",
    "##positive_cleaned_tokens_list = []\n",
    "##negative_cleaned_tokens_list = []\n",
    "##\n",
    "##for tokens in positive_tweet_tokens:\n",
    "##    positive_cleaned_tokens_list.append(remove_noise(tokens, stop_words))\n",
    "##\n",
    "##for tokens in negative_tweet_tokens:\n",
    "##    negative_cleaned_tokens_list.append(remove_noise(tokens, stop_words))\n",
    "##\n",
    "##all_pos_words = get_all_words(positive_cleaned_tokens_list)\n",
    "##\n",
    "##freq_dist_pos = FreqDist(all_pos_words)\n",
    "##print(freq_dist_pos.most_common(10))\n",
    "##\n",
    "##positive_tokens_for_model = get_tweets_for_model(positive_cleaned_tokens_list)\n",
    "##negative_tokens_for_model = get_tweets_for_model(negative_cleaned_tokens_list)\n",
    "##\n",
    "##positive_dataset = [(tweet_dict, \"Positive\")\n",
    "##                     for tweet_dict in positive_tokens_for_model]\n",
    "##\n",
    "##negative_dataset = [(tweet_dict, \"Negative\")\n",
    "##                     for tweet_dict in negative_tokens_for_model]\n",
    "##\n",
    "##dataset = positive_dataset + negative_dataset\n",
    "##\n",
    "##random.shuffle(dataset)\n",
    "##\n",
    "##train_data = dataset[:7000]\n",
    "##test_data = dataset[7000:]\n",
    "##\n",
    "##classifier = NaiveBayesClassifier.train(train_data)\n",
    "##\n",
    "##print(\"Accuracy is:\", classify.accuracy(classifier, test_data))\n",
    "##\n",
    "##print(classifier.show_most_informative_features(10))\n"
   ]
  },
  {
   "cell_type": "raw",
   "metadata": {},
   "source": [
    "RAW CODE FOR CALCULATING SENTIMENTS\n",
    "\n",
    "HOWEVER, THE SENTIMENTS ARE NOT \n",
    "\n",
    "\n",
    "input_reviews = df.transcript\n",
    "\n",
    "twitter_sentiment = []\n",
    "movie_sentiment = []\n",
    "\n",
    "\n",
    "for i in range(len(input_reviews)):\n",
    "   if(i%50==0):\n",
    "       print(i)  \n",
    "   review = input_reviews[i]\n",
    "   custom_tokens = remove_noise(word_tokenize(review))\n",
    "   probdist = classifier.prob_classify(dict([token, True] for token in custom_tokens))\n",
    "   pred_sentiment = probdist.max()\n",
    "     \n",
    "   #print( \"Predicted sentiment:\", pred_sentiment )\n",
    "   factor = 1 if pred_sentiment == \"Positive\" else -1\n",
    "   prob = round(probdist.prob(pred_sentiment), 7)\n",
    "   #print( \"Probability:\", prob)\n",
    "   twitter_sentiment.append(factor * prob)\n",
    "\n",
    "print('first part doned')\n",
    "for review in input_reviews:\n",
    "   probdist = classifier.prob_classify(extract_features(review.split()))\n",
    "   pred_sentiment = probdist.max()\n",
    "     \n",
    "   factor = 1 if pred_sentiment == \"Positive\" else -1\n",
    "   prob = round(probdist.prob(pred_sentiment), 7)\n",
    "   movie_sentiment.append(factor * prob)\n",
    "   \n",
    "\n",
    "df['twitter_sentiment'] = twitter_sentiment\n",
    "df['movie_sentiment'] = movie_sentiment\n",
    "print('second part doned')"
   ]
  },
  {
   "cell_type": "code",
   "execution_count": null,
   "metadata": {},
   "outputs": [],
   "source": []
  }
 ],
 "metadata": {
  "kernelspec": {
   "display_name": "Python 3",
   "language": "python",
   "name": "python3"
  },
  "language_info": {
   "codemirror_mode": {
    "name": "ipython",
    "version": 3
   },
   "file_extension": ".py",
   "mimetype": "text/x-python",
   "name": "python",
   "nbconvert_exporter": "python",
   "pygments_lexer": "ipython3",
   "version": "3.7.4"
  }
 },
 "nbformat": 4,
 "nbformat_minor": 4
}
